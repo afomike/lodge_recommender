{
  "cells": [
    {
      "cell_type": "code",
      "source": [
        "from google.colab import drive\n",
        "drive.mount('/content/drive')"
      ],
      "metadata": {
        "colab": {
          "base_uri": "https://localhost:8080/"
        },
        "id": "SCnFwN7BnNyK",
        "outputId": "2d41440e-a4fd-4222-b3c7-98adbf792234"
      },
      "id": "SCnFwN7BnNyK",
      "execution_count": null,
      "outputs": [
        {
          "output_type": "stream",
          "name": "stdout",
          "text": [
            "Drive already mounted at /content/drive; to attempt to forcibly remount, call drive.mount(\"/content/drive\", force_remount=True).\n"
          ]
        }
      ]
    },
    {
      "cell_type": "code",
      "execution_count": null,
      "id": "8a4b9e28",
      "metadata": {
        "id": "8a4b9e28"
      },
      "outputs": [],
      "source": [
        "# import libraries\n",
        "import pandas as pd\n",
        "import numpy as np\n",
        "import matplotlib.pyplot as plt\n",
        "import seaborn as sns"
      ]
    },
    {
      "cell_type": "code",
      "execution_count": null,
      "id": "46c11ce5",
      "metadata": {
        "id": "46c11ce5"
      },
      "outputs": [],
      "source": [
        "dataset = pd.read_excel('/content/drive/MyDrive/bro_pope/dataset/my project data.xlsx')"
      ]
    },
    {
      "cell_type": "code",
      "execution_count": null,
      "id": "a55ec5ae",
      "metadata": {
        "colab": {
          "base_uri": "https://localhost:8080/",
          "height": 206
        },
        "id": "a55ec5ae",
        "outputId": "330fc97b-1fe4-4f73-d1ec-06b62b25a289"
      },
      "outputs": [
        {
          "output_type": "execute_result",
          "data": {
            "text/plain": [
              "   House Location   Price    Agent no              Amenities   Property type  \\\n",
              "0     NNPC FELELE  170000  8146545794  Water and Electricity  SELF CONTAINED   \n",
              "1  MOTEL 5 FELELE   65000  8146545794  Water and Electricity     SINGLE ROOM   \n",
              "2    OWORO FELELE   50000  8146545794  Water and Electricity     SINGLE ROOM   \n",
              "3    OWORO FELELE   55000  8146545794  Water and Electricity     SINGLE ROOM   \n",
              "4          FELELE   75000  8134845479  Water and Electricity  SELF CONTAINED   \n",
              "\n",
              "    House Image  \n",
              "0   image 1.jpg  \n",
              "1   image 2.jpg  \n",
              "2  image 3.jfif  \n",
              "3   image 3.jpg  \n",
              "4   image 5.jpg  "
            ],
            "text/html": [
              "\n",
              "  <div id=\"df-4c3a9b66-b7d8-43cc-a60f-1b13e4050e8b\" class=\"colab-df-container\">\n",
              "    <div>\n",
              "<style scoped>\n",
              "    .dataframe tbody tr th:only-of-type {\n",
              "        vertical-align: middle;\n",
              "    }\n",
              "\n",
              "    .dataframe tbody tr th {\n",
              "        vertical-align: top;\n",
              "    }\n",
              "\n",
              "    .dataframe thead th {\n",
              "        text-align: right;\n",
              "    }\n",
              "</style>\n",
              "<table border=\"1\" class=\"dataframe\">\n",
              "  <thead>\n",
              "    <tr style=\"text-align: right;\">\n",
              "      <th></th>\n",
              "      <th>House Location</th>\n",
              "      <th>Price</th>\n",
              "      <th>Agent no</th>\n",
              "      <th>Amenities</th>\n",
              "      <th>Property type</th>\n",
              "      <th>House Image</th>\n",
              "    </tr>\n",
              "  </thead>\n",
              "  <tbody>\n",
              "    <tr>\n",
              "      <th>0</th>\n",
              "      <td>NNPC FELELE</td>\n",
              "      <td>170000</td>\n",
              "      <td>8146545794</td>\n",
              "      <td>Water and Electricity</td>\n",
              "      <td>SELF CONTAINED</td>\n",
              "      <td>image 1.jpg</td>\n",
              "    </tr>\n",
              "    <tr>\n",
              "      <th>1</th>\n",
              "      <td>MOTEL 5 FELELE</td>\n",
              "      <td>65000</td>\n",
              "      <td>8146545794</td>\n",
              "      <td>Water and Electricity</td>\n",
              "      <td>SINGLE ROOM</td>\n",
              "      <td>image 2.jpg</td>\n",
              "    </tr>\n",
              "    <tr>\n",
              "      <th>2</th>\n",
              "      <td>OWORO FELELE</td>\n",
              "      <td>50000</td>\n",
              "      <td>8146545794</td>\n",
              "      <td>Water and Electricity</td>\n",
              "      <td>SINGLE ROOM</td>\n",
              "      <td>image 3.jfif</td>\n",
              "    </tr>\n",
              "    <tr>\n",
              "      <th>3</th>\n",
              "      <td>OWORO FELELE</td>\n",
              "      <td>55000</td>\n",
              "      <td>8146545794</td>\n",
              "      <td>Water and Electricity</td>\n",
              "      <td>SINGLE ROOM</td>\n",
              "      <td>image 3.jpg</td>\n",
              "    </tr>\n",
              "    <tr>\n",
              "      <th>4</th>\n",
              "      <td>FELELE</td>\n",
              "      <td>75000</td>\n",
              "      <td>8134845479</td>\n",
              "      <td>Water and Electricity</td>\n",
              "      <td>SELF CONTAINED</td>\n",
              "      <td>image 5.jpg</td>\n",
              "    </tr>\n",
              "  </tbody>\n",
              "</table>\n",
              "</div>\n",
              "    <div class=\"colab-df-buttons\">\n",
              "\n",
              "  <div class=\"colab-df-container\">\n",
              "    <button class=\"colab-df-convert\" onclick=\"convertToInteractive('df-4c3a9b66-b7d8-43cc-a60f-1b13e4050e8b')\"\n",
              "            title=\"Convert this dataframe to an interactive table.\"\n",
              "            style=\"display:none;\">\n",
              "\n",
              "  <svg xmlns=\"http://www.w3.org/2000/svg\" height=\"24px\" viewBox=\"0 -960 960 960\">\n",
              "    <path d=\"M120-120v-720h720v720H120Zm60-500h600v-160H180v160Zm220 220h160v-160H400v160Zm0 220h160v-160H400v160ZM180-400h160v-160H180v160Zm440 0h160v-160H620v160ZM180-180h160v-160H180v160Zm440 0h160v-160H620v160Z\"/>\n",
              "  </svg>\n",
              "    </button>\n",
              "\n",
              "  <style>\n",
              "    .colab-df-container {\n",
              "      display:flex;\n",
              "      gap: 12px;\n",
              "    }\n",
              "\n",
              "    .colab-df-convert {\n",
              "      background-color: #E8F0FE;\n",
              "      border: none;\n",
              "      border-radius: 50%;\n",
              "      cursor: pointer;\n",
              "      display: none;\n",
              "      fill: #1967D2;\n",
              "      height: 32px;\n",
              "      padding: 0 0 0 0;\n",
              "      width: 32px;\n",
              "    }\n",
              "\n",
              "    .colab-df-convert:hover {\n",
              "      background-color: #E2EBFA;\n",
              "      box-shadow: 0px 1px 2px rgba(60, 64, 67, 0.3), 0px 1px 3px 1px rgba(60, 64, 67, 0.15);\n",
              "      fill: #174EA6;\n",
              "    }\n",
              "\n",
              "    .colab-df-buttons div {\n",
              "      margin-bottom: 4px;\n",
              "    }\n",
              "\n",
              "    [theme=dark] .colab-df-convert {\n",
              "      background-color: #3B4455;\n",
              "      fill: #D2E3FC;\n",
              "    }\n",
              "\n",
              "    [theme=dark] .colab-df-convert:hover {\n",
              "      background-color: #434B5C;\n",
              "      box-shadow: 0px 1px 3px 1px rgba(0, 0, 0, 0.15);\n",
              "      filter: drop-shadow(0px 1px 2px rgba(0, 0, 0, 0.3));\n",
              "      fill: #FFFFFF;\n",
              "    }\n",
              "  </style>\n",
              "\n",
              "    <script>\n",
              "      const buttonEl =\n",
              "        document.querySelector('#df-4c3a9b66-b7d8-43cc-a60f-1b13e4050e8b button.colab-df-convert');\n",
              "      buttonEl.style.display =\n",
              "        google.colab.kernel.accessAllowed ? 'block' : 'none';\n",
              "\n",
              "      async function convertToInteractive(key) {\n",
              "        const element = document.querySelector('#df-4c3a9b66-b7d8-43cc-a60f-1b13e4050e8b');\n",
              "        const dataTable =\n",
              "          await google.colab.kernel.invokeFunction('convertToInteractive',\n",
              "                                                    [key], {});\n",
              "        if (!dataTable) return;\n",
              "\n",
              "        const docLinkHtml = 'Like what you see? Visit the ' +\n",
              "          '<a target=\"_blank\" href=https://colab.research.google.com/notebooks/data_table.ipynb>data table notebook</a>'\n",
              "          + ' to learn more about interactive tables.';\n",
              "        element.innerHTML = '';\n",
              "        dataTable['output_type'] = 'display_data';\n",
              "        await google.colab.output.renderOutput(dataTable, element);\n",
              "        const docLink = document.createElement('div');\n",
              "        docLink.innerHTML = docLinkHtml;\n",
              "        element.appendChild(docLink);\n",
              "      }\n",
              "    </script>\n",
              "  </div>\n",
              "\n",
              "\n",
              "<div id=\"df-489634fa-9292-496f-9d66-623794262e21\">\n",
              "  <button class=\"colab-df-quickchart\" onclick=\"quickchart('df-489634fa-9292-496f-9d66-623794262e21')\"\n",
              "            title=\"Suggest charts.\"\n",
              "            style=\"display:none;\">\n",
              "\n",
              "<svg xmlns=\"http://www.w3.org/2000/svg\" height=\"24px\"viewBox=\"0 0 24 24\"\n",
              "     width=\"24px\">\n",
              "    <g>\n",
              "        <path d=\"M19 3H5c-1.1 0-2 .9-2 2v14c0 1.1.9 2 2 2h14c1.1 0 2-.9 2-2V5c0-1.1-.9-2-2-2zM9 17H7v-7h2v7zm4 0h-2V7h2v10zm4 0h-2v-4h2v4z\"/>\n",
              "    </g>\n",
              "</svg>\n",
              "  </button>\n",
              "\n",
              "<style>\n",
              "  .colab-df-quickchart {\n",
              "      --bg-color: #E8F0FE;\n",
              "      --fill-color: #1967D2;\n",
              "      --hover-bg-color: #E2EBFA;\n",
              "      --hover-fill-color: #174EA6;\n",
              "      --disabled-fill-color: #AAA;\n",
              "      --disabled-bg-color: #DDD;\n",
              "  }\n",
              "\n",
              "  [theme=dark] .colab-df-quickchart {\n",
              "      --bg-color: #3B4455;\n",
              "      --fill-color: #D2E3FC;\n",
              "      --hover-bg-color: #434B5C;\n",
              "      --hover-fill-color: #FFFFFF;\n",
              "      --disabled-bg-color: #3B4455;\n",
              "      --disabled-fill-color: #666;\n",
              "  }\n",
              "\n",
              "  .colab-df-quickchart {\n",
              "    background-color: var(--bg-color);\n",
              "    border: none;\n",
              "    border-radius: 50%;\n",
              "    cursor: pointer;\n",
              "    display: none;\n",
              "    fill: var(--fill-color);\n",
              "    height: 32px;\n",
              "    padding: 0;\n",
              "    width: 32px;\n",
              "  }\n",
              "\n",
              "  .colab-df-quickchart:hover {\n",
              "    background-color: var(--hover-bg-color);\n",
              "    box-shadow: 0 1px 2px rgba(60, 64, 67, 0.3), 0 1px 3px 1px rgba(60, 64, 67, 0.15);\n",
              "    fill: var(--button-hover-fill-color);\n",
              "  }\n",
              "\n",
              "  .colab-df-quickchart-complete:disabled,\n",
              "  .colab-df-quickchart-complete:disabled:hover {\n",
              "    background-color: var(--disabled-bg-color);\n",
              "    fill: var(--disabled-fill-color);\n",
              "    box-shadow: none;\n",
              "  }\n",
              "\n",
              "  .colab-df-spinner {\n",
              "    border: 2px solid var(--fill-color);\n",
              "    border-color: transparent;\n",
              "    border-bottom-color: var(--fill-color);\n",
              "    animation:\n",
              "      spin 1s steps(1) infinite;\n",
              "  }\n",
              "\n",
              "  @keyframes spin {\n",
              "    0% {\n",
              "      border-color: transparent;\n",
              "      border-bottom-color: var(--fill-color);\n",
              "      border-left-color: var(--fill-color);\n",
              "    }\n",
              "    20% {\n",
              "      border-color: transparent;\n",
              "      border-left-color: var(--fill-color);\n",
              "      border-top-color: var(--fill-color);\n",
              "    }\n",
              "    30% {\n",
              "      border-color: transparent;\n",
              "      border-left-color: var(--fill-color);\n",
              "      border-top-color: var(--fill-color);\n",
              "      border-right-color: var(--fill-color);\n",
              "    }\n",
              "    40% {\n",
              "      border-color: transparent;\n",
              "      border-right-color: var(--fill-color);\n",
              "      border-top-color: var(--fill-color);\n",
              "    }\n",
              "    60% {\n",
              "      border-color: transparent;\n",
              "      border-right-color: var(--fill-color);\n",
              "    }\n",
              "    80% {\n",
              "      border-color: transparent;\n",
              "      border-right-color: var(--fill-color);\n",
              "      border-bottom-color: var(--fill-color);\n",
              "    }\n",
              "    90% {\n",
              "      border-color: transparent;\n",
              "      border-bottom-color: var(--fill-color);\n",
              "    }\n",
              "  }\n",
              "</style>\n",
              "\n",
              "  <script>\n",
              "    async function quickchart(key) {\n",
              "      const quickchartButtonEl =\n",
              "        document.querySelector('#' + key + ' button');\n",
              "      quickchartButtonEl.disabled = true;  // To prevent multiple clicks.\n",
              "      quickchartButtonEl.classList.add('colab-df-spinner');\n",
              "      try {\n",
              "        const charts = await google.colab.kernel.invokeFunction(\n",
              "            'suggestCharts', [key], {});\n",
              "      } catch (error) {\n",
              "        console.error('Error during call to suggestCharts:', error);\n",
              "      }\n",
              "      quickchartButtonEl.classList.remove('colab-df-spinner');\n",
              "      quickchartButtonEl.classList.add('colab-df-quickchart-complete');\n",
              "    }\n",
              "    (() => {\n",
              "      let quickchartButtonEl =\n",
              "        document.querySelector('#df-489634fa-9292-496f-9d66-623794262e21 button');\n",
              "      quickchartButtonEl.style.display =\n",
              "        google.colab.kernel.accessAllowed ? 'block' : 'none';\n",
              "    })();\n",
              "  </script>\n",
              "</div>\n",
              "    </div>\n",
              "  </div>\n"
            ]
          },
          "metadata": {},
          "execution_count": 292
        }
      ],
      "source": [
        "dataset.head()"
      ]
    },
    {
      "cell_type": "code",
      "execution_count": null,
      "id": "0729ea6e",
      "metadata": {
        "colab": {
          "base_uri": "https://localhost:8080/"
        },
        "id": "0729ea6e",
        "outputId": "6812c2f7-1c97-4d20-c245-2ed75a3e6c85"
      },
      "outputs": [
        {
          "output_type": "execute_result",
          "data": {
            "text/plain": [
              "(159, 6)"
            ]
          },
          "metadata": {},
          "execution_count": 241
        }
      ],
      "source": [
        "dataset.shape"
      ]
    },
    {
      "cell_type": "code",
      "execution_count": null,
      "id": "535824e2",
      "metadata": {
        "colab": {
          "base_uri": "https://localhost:8080/"
        },
        "id": "535824e2",
        "outputId": "6cda2503-d629-4901-b408-0fdd61a03617"
      },
      "outputs": [
        {
          "output_type": "stream",
          "name": "stdout",
          "text": [
            "<class 'pandas.core.frame.DataFrame'>\n",
            "RangeIndex: 159 entries, 0 to 158\n",
            "Data columns (total 6 columns):\n",
            " #   Column          Non-Null Count  Dtype \n",
            "---  ------          --------------  ----- \n",
            " 0   House Location  159 non-null    object\n",
            " 1   Price           159 non-null    int64 \n",
            " 2   Agent no        159 non-null    int64 \n",
            " 3   Amenities       159 non-null    object\n",
            " 4   Property type   159 non-null    object\n",
            " 5   House Image     159 non-null    object\n",
            "dtypes: int64(2), object(4)\n",
            "memory usage: 7.6+ KB\n"
          ]
        }
      ],
      "source": [
        "dataset.info()"
      ]
    },
    {
      "cell_type": "code",
      "source": [
        "dataset.columns"
      ],
      "metadata": {
        "colab": {
          "base_uri": "https://localhost:8080/"
        },
        "id": "-YKrUULNQ7Wm",
        "outputId": "04138c99-675c-450e-bc8a-8ec1b4493c47"
      },
      "id": "-YKrUULNQ7Wm",
      "execution_count": null,
      "outputs": [
        {
          "output_type": "execute_result",
          "data": {
            "text/plain": [
              "Index(['House Location', 'Price', 'Agent no', 'Amenities', 'Property type',\n",
              "       'House Image'],\n",
              "      dtype='object')"
            ]
          },
          "metadata": {},
          "execution_count": 243
        }
      ]
    },
    {
      "cell_type": "code",
      "execution_count": null,
      "id": "2b1b0898",
      "metadata": {
        "id": "2b1b0898"
      },
      "outputs": [],
      "source": [
        "dataset = dataset[['House Location', 'Price', 'Agent no', 'Amenities', 'Property type','House Image']]"
      ]
    },
    {
      "cell_type": "code",
      "execution_count": null,
      "id": "c237ea44",
      "metadata": {
        "colab": {
          "base_uri": "https://localhost:8080/",
          "height": 144
        },
        "id": "c237ea44",
        "outputId": "59736f1b-0c5b-4d81-ddea-1621d1d0cfbd"
      },
      "outputs": [
        {
          "output_type": "execute_result",
          "data": {
            "text/plain": [
              "   House Location   Price    Agent no              Amenities   Property type  \\\n",
              "0     NNPC FELELE  170000  8146545794  Water and Electricity  SELF CONTAINED   \n",
              "1  MOTEL 5 FELELE   65000  8146545794  Water and Electricity     SINGLE ROOM   \n",
              "2    OWORO FELELE   50000  8146545794  Water and Electricity     SINGLE ROOM   \n",
              "\n",
              "    House Image  \n",
              "0   image 1.jpg  \n",
              "1   image 2.jpg  \n",
              "2  image 3.jfif  "
            ],
            "text/html": [
              "\n",
              "  <div id=\"df-740b6099-2b97-45ed-badf-d7e6d49ba919\" class=\"colab-df-container\">\n",
              "    <div>\n",
              "<style scoped>\n",
              "    .dataframe tbody tr th:only-of-type {\n",
              "        vertical-align: middle;\n",
              "    }\n",
              "\n",
              "    .dataframe tbody tr th {\n",
              "        vertical-align: top;\n",
              "    }\n",
              "\n",
              "    .dataframe thead th {\n",
              "        text-align: right;\n",
              "    }\n",
              "</style>\n",
              "<table border=\"1\" class=\"dataframe\">\n",
              "  <thead>\n",
              "    <tr style=\"text-align: right;\">\n",
              "      <th></th>\n",
              "      <th>House Location</th>\n",
              "      <th>Price</th>\n",
              "      <th>Agent no</th>\n",
              "      <th>Amenities</th>\n",
              "      <th>Property type</th>\n",
              "      <th>House Image</th>\n",
              "    </tr>\n",
              "  </thead>\n",
              "  <tbody>\n",
              "    <tr>\n",
              "      <th>0</th>\n",
              "      <td>NNPC FELELE</td>\n",
              "      <td>170000</td>\n",
              "      <td>8146545794</td>\n",
              "      <td>Water and Electricity</td>\n",
              "      <td>SELF CONTAINED</td>\n",
              "      <td>image 1.jpg</td>\n",
              "    </tr>\n",
              "    <tr>\n",
              "      <th>1</th>\n",
              "      <td>MOTEL 5 FELELE</td>\n",
              "      <td>65000</td>\n",
              "      <td>8146545794</td>\n",
              "      <td>Water and Electricity</td>\n",
              "      <td>SINGLE ROOM</td>\n",
              "      <td>image 2.jpg</td>\n",
              "    </tr>\n",
              "    <tr>\n",
              "      <th>2</th>\n",
              "      <td>OWORO FELELE</td>\n",
              "      <td>50000</td>\n",
              "      <td>8146545794</td>\n",
              "      <td>Water and Electricity</td>\n",
              "      <td>SINGLE ROOM</td>\n",
              "      <td>image 3.jfif</td>\n",
              "    </tr>\n",
              "  </tbody>\n",
              "</table>\n",
              "</div>\n",
              "    <div class=\"colab-df-buttons\">\n",
              "\n",
              "  <div class=\"colab-df-container\">\n",
              "    <button class=\"colab-df-convert\" onclick=\"convertToInteractive('df-740b6099-2b97-45ed-badf-d7e6d49ba919')\"\n",
              "            title=\"Convert this dataframe to an interactive table.\"\n",
              "            style=\"display:none;\">\n",
              "\n",
              "  <svg xmlns=\"http://www.w3.org/2000/svg\" height=\"24px\" viewBox=\"0 -960 960 960\">\n",
              "    <path d=\"M120-120v-720h720v720H120Zm60-500h600v-160H180v160Zm220 220h160v-160H400v160Zm0 220h160v-160H400v160ZM180-400h160v-160H180v160Zm440 0h160v-160H620v160ZM180-180h160v-160H180v160Zm440 0h160v-160H620v160Z\"/>\n",
              "  </svg>\n",
              "    </button>\n",
              "\n",
              "  <style>\n",
              "    .colab-df-container {\n",
              "      display:flex;\n",
              "      gap: 12px;\n",
              "    }\n",
              "\n",
              "    .colab-df-convert {\n",
              "      background-color: #E8F0FE;\n",
              "      border: none;\n",
              "      border-radius: 50%;\n",
              "      cursor: pointer;\n",
              "      display: none;\n",
              "      fill: #1967D2;\n",
              "      height: 32px;\n",
              "      padding: 0 0 0 0;\n",
              "      width: 32px;\n",
              "    }\n",
              "\n",
              "    .colab-df-convert:hover {\n",
              "      background-color: #E2EBFA;\n",
              "      box-shadow: 0px 1px 2px rgba(60, 64, 67, 0.3), 0px 1px 3px 1px rgba(60, 64, 67, 0.15);\n",
              "      fill: #174EA6;\n",
              "    }\n",
              "\n",
              "    .colab-df-buttons div {\n",
              "      margin-bottom: 4px;\n",
              "    }\n",
              "\n",
              "    [theme=dark] .colab-df-convert {\n",
              "      background-color: #3B4455;\n",
              "      fill: #D2E3FC;\n",
              "    }\n",
              "\n",
              "    [theme=dark] .colab-df-convert:hover {\n",
              "      background-color: #434B5C;\n",
              "      box-shadow: 0px 1px 3px 1px rgba(0, 0, 0, 0.15);\n",
              "      filter: drop-shadow(0px 1px 2px rgba(0, 0, 0, 0.3));\n",
              "      fill: #FFFFFF;\n",
              "    }\n",
              "  </style>\n",
              "\n",
              "    <script>\n",
              "      const buttonEl =\n",
              "        document.querySelector('#df-740b6099-2b97-45ed-badf-d7e6d49ba919 button.colab-df-convert');\n",
              "      buttonEl.style.display =\n",
              "        google.colab.kernel.accessAllowed ? 'block' : 'none';\n",
              "\n",
              "      async function convertToInteractive(key) {\n",
              "        const element = document.querySelector('#df-740b6099-2b97-45ed-badf-d7e6d49ba919');\n",
              "        const dataTable =\n",
              "          await google.colab.kernel.invokeFunction('convertToInteractive',\n",
              "                                                    [key], {});\n",
              "        if (!dataTable) return;\n",
              "\n",
              "        const docLinkHtml = 'Like what you see? Visit the ' +\n",
              "          '<a target=\"_blank\" href=https://colab.research.google.com/notebooks/data_table.ipynb>data table notebook</a>'\n",
              "          + ' to learn more about interactive tables.';\n",
              "        element.innerHTML = '';\n",
              "        dataTable['output_type'] = 'display_data';\n",
              "        await google.colab.output.renderOutput(dataTable, element);\n",
              "        const docLink = document.createElement('div');\n",
              "        docLink.innerHTML = docLinkHtml;\n",
              "        element.appendChild(docLink);\n",
              "      }\n",
              "    </script>\n",
              "  </div>\n",
              "\n",
              "\n",
              "<div id=\"df-cfc79384-ad05-467e-99aa-666664aef84a\">\n",
              "  <button class=\"colab-df-quickchart\" onclick=\"quickchart('df-cfc79384-ad05-467e-99aa-666664aef84a')\"\n",
              "            title=\"Suggest charts.\"\n",
              "            style=\"display:none;\">\n",
              "\n",
              "<svg xmlns=\"http://www.w3.org/2000/svg\" height=\"24px\"viewBox=\"0 0 24 24\"\n",
              "     width=\"24px\">\n",
              "    <g>\n",
              "        <path d=\"M19 3H5c-1.1 0-2 .9-2 2v14c0 1.1.9 2 2 2h14c1.1 0 2-.9 2-2V5c0-1.1-.9-2-2-2zM9 17H7v-7h2v7zm4 0h-2V7h2v10zm4 0h-2v-4h2v4z\"/>\n",
              "    </g>\n",
              "</svg>\n",
              "  </button>\n",
              "\n",
              "<style>\n",
              "  .colab-df-quickchart {\n",
              "      --bg-color: #E8F0FE;\n",
              "      --fill-color: #1967D2;\n",
              "      --hover-bg-color: #E2EBFA;\n",
              "      --hover-fill-color: #174EA6;\n",
              "      --disabled-fill-color: #AAA;\n",
              "      --disabled-bg-color: #DDD;\n",
              "  }\n",
              "\n",
              "  [theme=dark] .colab-df-quickchart {\n",
              "      --bg-color: #3B4455;\n",
              "      --fill-color: #D2E3FC;\n",
              "      --hover-bg-color: #434B5C;\n",
              "      --hover-fill-color: #FFFFFF;\n",
              "      --disabled-bg-color: #3B4455;\n",
              "      --disabled-fill-color: #666;\n",
              "  }\n",
              "\n",
              "  .colab-df-quickchart {\n",
              "    background-color: var(--bg-color);\n",
              "    border: none;\n",
              "    border-radius: 50%;\n",
              "    cursor: pointer;\n",
              "    display: none;\n",
              "    fill: var(--fill-color);\n",
              "    height: 32px;\n",
              "    padding: 0;\n",
              "    width: 32px;\n",
              "  }\n",
              "\n",
              "  .colab-df-quickchart:hover {\n",
              "    background-color: var(--hover-bg-color);\n",
              "    box-shadow: 0 1px 2px rgba(60, 64, 67, 0.3), 0 1px 3px 1px rgba(60, 64, 67, 0.15);\n",
              "    fill: var(--button-hover-fill-color);\n",
              "  }\n",
              "\n",
              "  .colab-df-quickchart-complete:disabled,\n",
              "  .colab-df-quickchart-complete:disabled:hover {\n",
              "    background-color: var(--disabled-bg-color);\n",
              "    fill: var(--disabled-fill-color);\n",
              "    box-shadow: none;\n",
              "  }\n",
              "\n",
              "  .colab-df-spinner {\n",
              "    border: 2px solid var(--fill-color);\n",
              "    border-color: transparent;\n",
              "    border-bottom-color: var(--fill-color);\n",
              "    animation:\n",
              "      spin 1s steps(1) infinite;\n",
              "  }\n",
              "\n",
              "  @keyframes spin {\n",
              "    0% {\n",
              "      border-color: transparent;\n",
              "      border-bottom-color: var(--fill-color);\n",
              "      border-left-color: var(--fill-color);\n",
              "    }\n",
              "    20% {\n",
              "      border-color: transparent;\n",
              "      border-left-color: var(--fill-color);\n",
              "      border-top-color: var(--fill-color);\n",
              "    }\n",
              "    30% {\n",
              "      border-color: transparent;\n",
              "      border-left-color: var(--fill-color);\n",
              "      border-top-color: var(--fill-color);\n",
              "      border-right-color: var(--fill-color);\n",
              "    }\n",
              "    40% {\n",
              "      border-color: transparent;\n",
              "      border-right-color: var(--fill-color);\n",
              "      border-top-color: var(--fill-color);\n",
              "    }\n",
              "    60% {\n",
              "      border-color: transparent;\n",
              "      border-right-color: var(--fill-color);\n",
              "    }\n",
              "    80% {\n",
              "      border-color: transparent;\n",
              "      border-right-color: var(--fill-color);\n",
              "      border-bottom-color: var(--fill-color);\n",
              "    }\n",
              "    90% {\n",
              "      border-color: transparent;\n",
              "      border-bottom-color: var(--fill-color);\n",
              "    }\n",
              "  }\n",
              "</style>\n",
              "\n",
              "  <script>\n",
              "    async function quickchart(key) {\n",
              "      const quickchartButtonEl =\n",
              "        document.querySelector('#' + key + ' button');\n",
              "      quickchartButtonEl.disabled = true;  // To prevent multiple clicks.\n",
              "      quickchartButtonEl.classList.add('colab-df-spinner');\n",
              "      try {\n",
              "        const charts = await google.colab.kernel.invokeFunction(\n",
              "            'suggestCharts', [key], {});\n",
              "      } catch (error) {\n",
              "        console.error('Error during call to suggestCharts:', error);\n",
              "      }\n",
              "      quickchartButtonEl.classList.remove('colab-df-spinner');\n",
              "      quickchartButtonEl.classList.add('colab-df-quickchart-complete');\n",
              "    }\n",
              "    (() => {\n",
              "      let quickchartButtonEl =\n",
              "        document.querySelector('#df-cfc79384-ad05-467e-99aa-666664aef84a button');\n",
              "      quickchartButtonEl.style.display =\n",
              "        google.colab.kernel.accessAllowed ? 'block' : 'none';\n",
              "    })();\n",
              "  </script>\n",
              "</div>\n",
              "    </div>\n",
              "  </div>\n"
            ]
          },
          "metadata": {},
          "execution_count": 294
        }
      ],
      "source": [
        "dataset.head(3)"
      ]
    },
    {
      "cell_type": "code",
      "execution_count": null,
      "id": "bfaa5c31",
      "metadata": {
        "id": "bfaa5c31"
      },
      "outputs": [],
      "source": [
        "# MISSING VALUES"
      ]
    },
    {
      "cell_type": "code",
      "execution_count": null,
      "id": "f9607c1c",
      "metadata": {
        "colab": {
          "base_uri": "https://localhost:8080/"
        },
        "id": "f9607c1c",
        "outputId": "308bd232-4654-48d2-e8f4-8e1457dd9fa2"
      },
      "outputs": [
        {
          "output_type": "execute_result",
          "data": {
            "text/plain": [
              "House Location    0\n",
              "Price             0\n",
              "Agent no          0\n",
              "Amenities         0\n",
              "Property type     0\n",
              "House Image       0\n",
              "dtype: int64"
            ]
          },
          "metadata": {},
          "execution_count": 10
        }
      ],
      "source": [
        "dataset.isnull().sum()"
      ]
    },
    {
      "cell_type": "code",
      "execution_count": null,
      "id": "f9b34604",
      "metadata": {
        "id": "f9b34604"
      },
      "outputs": [],
      "source": [
        "dataset.dropna(inplace=True)"
      ]
    },
    {
      "cell_type": "code",
      "source": [
        "dataset.isnull().sum()"
      ],
      "metadata": {
        "colab": {
          "base_uri": "https://localhost:8080/"
        },
        "id": "miBcQr3omhAc",
        "outputId": "72172859-b440-4071-809d-d8e7de7a2823"
      },
      "id": "miBcQr3omhAc",
      "execution_count": null,
      "outputs": [
        {
          "output_type": "execute_result",
          "data": {
            "text/plain": [
              "House Location    0\n",
              "Price             0\n",
              "Agent no          0\n",
              "Amenities         0\n",
              "Property type     0\n",
              "House Image       0\n",
              "dtype: int64"
            ]
          },
          "metadata": {},
          "execution_count": 12
        }
      ]
    },
    {
      "cell_type": "code",
      "execution_count": null,
      "id": "e863b659",
      "metadata": {
        "colab": {
          "base_uri": "https://localhost:8080/"
        },
        "id": "e863b659",
        "outputId": "1ad6e41d-8302-4c82-81db-9c66cf80df13"
      },
      "outputs": [
        {
          "output_type": "execute_result",
          "data": {
            "text/plain": [
              "15"
            ]
          },
          "metadata": {},
          "execution_count": 13
        }
      ],
      "source": [
        "dataset.duplicated().sum()"
      ]
    },
    {
      "cell_type": "code",
      "source": [
        "dataset = dataset.rename(columns={'House Location':'House_Location', 'Property type':'Property_type', 'Agent no':'Agent_no',\n",
        "       'House Image':'House_Image'})"
      ],
      "metadata": {
        "id": "WajwlaqXTUJa"
      },
      "id": "WajwlaqXTUJa",
      "execution_count": null,
      "outputs": []
    },
    {
      "cell_type": "code",
      "execution_count": null,
      "id": "ad21b5a3",
      "metadata": {
        "colab": {
          "base_uri": "https://localhost:8080/"
        },
        "id": "ad21b5a3",
        "outputId": "db3d4a2d-f936-43df-ebeb-c7fe825f10d5"
      },
      "outputs": [
        {
          "output_type": "execute_result",
          "data": {
            "text/plain": [
              "170000"
            ]
          },
          "metadata": {},
          "execution_count": 296
        }
      ],
      "source": [
        "dataset.iloc[0].Price"
      ]
    },
    {
      "cell_type": "code",
      "source": [
        "dataset['House_Location'].unique()\n"
      ],
      "metadata": {
        "colab": {
          "base_uri": "https://localhost:8080/"
        },
        "id": "sp-WxDSnT-D6",
        "outputId": "00a5739b-dd87-490e-cbdf-a49e6bc58ba6"
      },
      "id": "sp-WxDSnT-D6",
      "execution_count": null,
      "outputs": [
        {
          "output_type": "execute_result",
          "data": {
            "text/plain": [
              "array(['NNPC FELELE', 'MOTEL 5 FELELE', 'OWORO FELELE', 'FELELE',\n",
              "       'ADANKOLO', 'CRUSHER', 'FELELE ', 'NASFAT FELELE', '`FELELE'],\n",
              "      dtype=object)"
            ]
          },
          "metadata": {},
          "execution_count": 297
        }
      ]
    },
    {
      "cell_type": "code",
      "source": [
        "# Label Encode Ordinal Variables\n",
        "category_mapping = {\n",
        "       'NNPC FELELE':'nnpc felele', 'MOTEL 5 FELELE':'motel 5 felele', 'OWORO FELELE':'oworo felele', 'FELELE':'felele',\n",
        "       'ADANKOLO':'adankolo', 'CRUSHER':'crusher', 'FELELE ':'felele', 'NASFAT FELELE':'nasfat felele', '`FELELE':'felele'\n",
        "}\n",
        "\n",
        "dataset['House_Location']= dataset['House_Location'].map(category_mapping)"
      ],
      "metadata": {
        "id": "xp9WLTVJIgoK"
      },
      "id": "xp9WLTVJIgoK",
      "execution_count": null,
      "outputs": []
    },
    {
      "cell_type": "code",
      "source": [
        "dataset['House_Location'].unique()"
      ],
      "metadata": {
        "colab": {
          "base_uri": "https://localhost:8080/"
        },
        "id": "RuUAnowTGVZC",
        "outputId": "36059dd5-ba05-49a6-a66d-3bf7f440ac0a"
      },
      "id": "RuUAnowTGVZC",
      "execution_count": null,
      "outputs": [
        {
          "output_type": "execute_result",
          "data": {
            "text/plain": [
              "array(['nnpc felele', 'motel 5 felele', 'oworo felele', 'felele',\n",
              "       'adankolo', 'crusher', 'nasfat felele'], dtype=object)"
            ]
          },
          "metadata": {},
          "execution_count": 299
        }
      ]
    },
    {
      "cell_type": "code",
      "execution_count": null,
      "id": "fcbf01d2",
      "metadata": {
        "colab": {
          "base_uri": "https://localhost:8080/",
          "height": 81
        },
        "id": "fcbf01d2",
        "outputId": "fedde9f1-35d0-427d-eae2-d787f983a725"
      },
      "outputs": [
        {
          "output_type": "execute_result",
          "data": {
            "text/plain": [
              "  House_Location   Price    Agent_no              Amenities   Property_type  \\\n",
              "0    nnpc felele  170000  8146545794  Water and Electricity  SELF CONTAINED   \n",
              "\n",
              "   House_Image  \n",
              "0  image 1.jpg  "
            ],
            "text/html": [
              "\n",
              "  <div id=\"df-35441770-3720-4b35-b03b-b0b2863dc621\" class=\"colab-df-container\">\n",
              "    <div>\n",
              "<style scoped>\n",
              "    .dataframe tbody tr th:only-of-type {\n",
              "        vertical-align: middle;\n",
              "    }\n",
              "\n",
              "    .dataframe tbody tr th {\n",
              "        vertical-align: top;\n",
              "    }\n",
              "\n",
              "    .dataframe thead th {\n",
              "        text-align: right;\n",
              "    }\n",
              "</style>\n",
              "<table border=\"1\" class=\"dataframe\">\n",
              "  <thead>\n",
              "    <tr style=\"text-align: right;\">\n",
              "      <th></th>\n",
              "      <th>House_Location</th>\n",
              "      <th>Price</th>\n",
              "      <th>Agent_no</th>\n",
              "      <th>Amenities</th>\n",
              "      <th>Property_type</th>\n",
              "      <th>House_Image</th>\n",
              "    </tr>\n",
              "  </thead>\n",
              "  <tbody>\n",
              "    <tr>\n",
              "      <th>0</th>\n",
              "      <td>nnpc felele</td>\n",
              "      <td>170000</td>\n",
              "      <td>8146545794</td>\n",
              "      <td>Water and Electricity</td>\n",
              "      <td>SELF CONTAINED</td>\n",
              "      <td>image 1.jpg</td>\n",
              "    </tr>\n",
              "  </tbody>\n",
              "</table>\n",
              "</div>\n",
              "    <div class=\"colab-df-buttons\">\n",
              "\n",
              "  <div class=\"colab-df-container\">\n",
              "    <button class=\"colab-df-convert\" onclick=\"convertToInteractive('df-35441770-3720-4b35-b03b-b0b2863dc621')\"\n",
              "            title=\"Convert this dataframe to an interactive table.\"\n",
              "            style=\"display:none;\">\n",
              "\n",
              "  <svg xmlns=\"http://www.w3.org/2000/svg\" height=\"24px\" viewBox=\"0 -960 960 960\">\n",
              "    <path d=\"M120-120v-720h720v720H120Zm60-500h600v-160H180v160Zm220 220h160v-160H400v160Zm0 220h160v-160H400v160ZM180-400h160v-160H180v160Zm440 0h160v-160H620v160ZM180-180h160v-160H180v160Zm440 0h160v-160H620v160Z\"/>\n",
              "  </svg>\n",
              "    </button>\n",
              "\n",
              "  <style>\n",
              "    .colab-df-container {\n",
              "      display:flex;\n",
              "      gap: 12px;\n",
              "    }\n",
              "\n",
              "    .colab-df-convert {\n",
              "      background-color: #E8F0FE;\n",
              "      border: none;\n",
              "      border-radius: 50%;\n",
              "      cursor: pointer;\n",
              "      display: none;\n",
              "      fill: #1967D2;\n",
              "      height: 32px;\n",
              "      padding: 0 0 0 0;\n",
              "      width: 32px;\n",
              "    }\n",
              "\n",
              "    .colab-df-convert:hover {\n",
              "      background-color: #E2EBFA;\n",
              "      box-shadow: 0px 1px 2px rgba(60, 64, 67, 0.3), 0px 1px 3px 1px rgba(60, 64, 67, 0.15);\n",
              "      fill: #174EA6;\n",
              "    }\n",
              "\n",
              "    .colab-df-buttons div {\n",
              "      margin-bottom: 4px;\n",
              "    }\n",
              "\n",
              "    [theme=dark] .colab-df-convert {\n",
              "      background-color: #3B4455;\n",
              "      fill: #D2E3FC;\n",
              "    }\n",
              "\n",
              "    [theme=dark] .colab-df-convert:hover {\n",
              "      background-color: #434B5C;\n",
              "      box-shadow: 0px 1px 3px 1px rgba(0, 0, 0, 0.15);\n",
              "      filter: drop-shadow(0px 1px 2px rgba(0, 0, 0, 0.3));\n",
              "      fill: #FFFFFF;\n",
              "    }\n",
              "  </style>\n",
              "\n",
              "    <script>\n",
              "      const buttonEl =\n",
              "        document.querySelector('#df-35441770-3720-4b35-b03b-b0b2863dc621 button.colab-df-convert');\n",
              "      buttonEl.style.display =\n",
              "        google.colab.kernel.accessAllowed ? 'block' : 'none';\n",
              "\n",
              "      async function convertToInteractive(key) {\n",
              "        const element = document.querySelector('#df-35441770-3720-4b35-b03b-b0b2863dc621');\n",
              "        const dataTable =\n",
              "          await google.colab.kernel.invokeFunction('convertToInteractive',\n",
              "                                                    [key], {});\n",
              "        if (!dataTable) return;\n",
              "\n",
              "        const docLinkHtml = 'Like what you see? Visit the ' +\n",
              "          '<a target=\"_blank\" href=https://colab.research.google.com/notebooks/data_table.ipynb>data table notebook</a>'\n",
              "          + ' to learn more about interactive tables.';\n",
              "        element.innerHTML = '';\n",
              "        dataTable['output_type'] = 'display_data';\n",
              "        await google.colab.output.renderOutput(dataTable, element);\n",
              "        const docLink = document.createElement('div');\n",
              "        docLink.innerHTML = docLinkHtml;\n",
              "        element.appendChild(docLink);\n",
              "      }\n",
              "    </script>\n",
              "  </div>\n",
              "\n",
              "    </div>\n",
              "  </div>\n"
            ]
          },
          "metadata": {},
          "execution_count": 300
        }
      ],
      "source": [
        "dataset.head(1)"
      ]
    },
    {
      "cell_type": "code",
      "execution_count": null,
      "id": "d9eed2c0",
      "metadata": {
        "id": "d9eed2c0"
      },
      "outputs": [],
      "source": [
        "dataset['House_Location1'] = dataset['House_Location'].apply(lambda x:x.split())\n",
        "dataset['Property_type1'] = dataset['Property_type'].apply(lambda x:x.split())\n",
        "dataset['Amenities1'] = dataset['Amenities'].apply(lambda x:x.split())"
      ]
    },
    {
      "cell_type": "code",
      "source": [
        "dataset['House_Location'] = dataset['House_Location'].apply(lambda x:x.lower())\n",
        "dataset['Property_type'] = dataset['Property_type'].apply(lambda x:x.lower())\n",
        "dataset['Amenities'] = dataset['Amenities'].apply(lambda x:x.lower())"
      ],
      "metadata": {
        "id": "-bS94N72fJss"
      },
      "id": "-bS94N72fJss",
      "execution_count": null,
      "outputs": []
    },
    {
      "cell_type": "code",
      "source": [
        "dataset.columns"
      ],
      "metadata": {
        "id": "SzRL8MgCwzW5",
        "colab": {
          "base_uri": "https://localhost:8080/"
        },
        "outputId": "12eeb62a-db47-47d7-9d34-53198c42692f"
      },
      "id": "SzRL8MgCwzW5",
      "execution_count": null,
      "outputs": [
        {
          "output_type": "execute_result",
          "data": {
            "text/plain": [
              "Index(['House_Location', 'Price', 'Agent_no', 'Amenities', 'Property_type',\n",
              "       'House_Image', 'House_Location1', 'Property_type1', 'Amenities1'],\n",
              "      dtype='object')"
            ]
          },
          "metadata": {},
          "execution_count": 303
        }
      ]
    },
    {
      "cell_type": "code",
      "source": [
        "# dataset['tags'] = dataset.apply(lambda row: [row['House_Location1'], row['Price'], row['Amenities1'], row['Property_type1']], axis=1)"
      ],
      "metadata": {
        "id": "_MX-adxR2mC5"
      },
      "id": "_MX-adxR2mC5",
      "execution_count": null,
      "outputs": []
    },
    {
      "cell_type": "code",
      "source": [
        "dataset['tags'] = dataset.apply(lambda row: [row['House_Location1'], row['Price'], row['Amenities1'], row['Property_type1']], axis=1).apply(lambda x: \" \".join(map(str, x))).str.replace('[','').str.replace(']','')"
      ],
      "metadata": {
        "colab": {
          "base_uri": "https://localhost:8080/"
        },
        "id": "-SqoSIz93x8K",
        "outputId": "571bd20f-baa9-4622-83f2-bbd6926f525e"
      },
      "id": "-SqoSIz93x8K",
      "execution_count": null,
      "outputs": [
        {
          "output_type": "stream",
          "name": "stderr",
          "text": [
            "<ipython-input-305-4fcd780c4f07>:1: FutureWarning: The default value of regex will change from True to False in a future version. In addition, single character regular expressions will *not* be treated as literal strings when regex=True.\n",
            "  dataset['tags'] = dataset.apply(lambda row: [row['House_Location1'], row['Price'], row['Amenities1'], row['Property_type1']], axis=1).apply(lambda x: \" \".join(map(str, x))).str.replace('[','').str.replace(']','')\n"
          ]
        }
      ]
    },
    {
      "cell_type": "code",
      "execution_count": null,
      "id": "64bc69b1",
      "metadata": {
        "colab": {
          "base_uri": "https://localhost:8080/",
          "height": 98
        },
        "id": "64bc69b1",
        "outputId": "542394ba-fd4c-47dd-d1c5-4299960d44e4"
      },
      "outputs": [
        {
          "output_type": "execute_result",
          "data": {
            "text/plain": [
              "  House_Location   Price    Agent_no              Amenities   Property_type  \\\n",
              "0    nnpc felele  170000  8146545794  water and electricity  self contained   \n",
              "\n",
              "   House_Image House_Location1     Property_type1                 Amenities1  \\\n",
              "0  image 1.jpg  [nnpc, felele]  [SELF, CONTAINED]  [Water, and, Electricity]   \n",
              "\n",
              "                                                tags  \n",
              "0  'nnpc', 'felele' 170000 'Water', 'and', 'Elect...  "
            ],
            "text/html": [
              "\n",
              "  <div id=\"df-8fd5d536-c5df-4d25-a14a-dd13805f7f92\" class=\"colab-df-container\">\n",
              "    <div>\n",
              "<style scoped>\n",
              "    .dataframe tbody tr th:only-of-type {\n",
              "        vertical-align: middle;\n",
              "    }\n",
              "\n",
              "    .dataframe tbody tr th {\n",
              "        vertical-align: top;\n",
              "    }\n",
              "\n",
              "    .dataframe thead th {\n",
              "        text-align: right;\n",
              "    }\n",
              "</style>\n",
              "<table border=\"1\" class=\"dataframe\">\n",
              "  <thead>\n",
              "    <tr style=\"text-align: right;\">\n",
              "      <th></th>\n",
              "      <th>House_Location</th>\n",
              "      <th>Price</th>\n",
              "      <th>Agent_no</th>\n",
              "      <th>Amenities</th>\n",
              "      <th>Property_type</th>\n",
              "      <th>House_Image</th>\n",
              "      <th>House_Location1</th>\n",
              "      <th>Property_type1</th>\n",
              "      <th>Amenities1</th>\n",
              "      <th>tags</th>\n",
              "    </tr>\n",
              "  </thead>\n",
              "  <tbody>\n",
              "    <tr>\n",
              "      <th>0</th>\n",
              "      <td>nnpc felele</td>\n",
              "      <td>170000</td>\n",
              "      <td>8146545794</td>\n",
              "      <td>water and electricity</td>\n",
              "      <td>self contained</td>\n",
              "      <td>image 1.jpg</td>\n",
              "      <td>[nnpc, felele]</td>\n",
              "      <td>[SELF, CONTAINED]</td>\n",
              "      <td>[Water, and, Electricity]</td>\n",
              "      <td>'nnpc', 'felele' 170000 'Water', 'and', 'Elect...</td>\n",
              "    </tr>\n",
              "  </tbody>\n",
              "</table>\n",
              "</div>\n",
              "    <div class=\"colab-df-buttons\">\n",
              "\n",
              "  <div class=\"colab-df-container\">\n",
              "    <button class=\"colab-df-convert\" onclick=\"convertToInteractive('df-8fd5d536-c5df-4d25-a14a-dd13805f7f92')\"\n",
              "            title=\"Convert this dataframe to an interactive table.\"\n",
              "            style=\"display:none;\">\n",
              "\n",
              "  <svg xmlns=\"http://www.w3.org/2000/svg\" height=\"24px\" viewBox=\"0 -960 960 960\">\n",
              "    <path d=\"M120-120v-720h720v720H120Zm60-500h600v-160H180v160Zm220 220h160v-160H400v160Zm0 220h160v-160H400v160ZM180-400h160v-160H180v160Zm440 0h160v-160H620v160ZM180-180h160v-160H180v160Zm440 0h160v-160H620v160Z\"/>\n",
              "  </svg>\n",
              "    </button>\n",
              "\n",
              "  <style>\n",
              "    .colab-df-container {\n",
              "      display:flex;\n",
              "      gap: 12px;\n",
              "    }\n",
              "\n",
              "    .colab-df-convert {\n",
              "      background-color: #E8F0FE;\n",
              "      border: none;\n",
              "      border-radius: 50%;\n",
              "      cursor: pointer;\n",
              "      display: none;\n",
              "      fill: #1967D2;\n",
              "      height: 32px;\n",
              "      padding: 0 0 0 0;\n",
              "      width: 32px;\n",
              "    }\n",
              "\n",
              "    .colab-df-convert:hover {\n",
              "      background-color: #E2EBFA;\n",
              "      box-shadow: 0px 1px 2px rgba(60, 64, 67, 0.3), 0px 1px 3px 1px rgba(60, 64, 67, 0.15);\n",
              "      fill: #174EA6;\n",
              "    }\n",
              "\n",
              "    .colab-df-buttons div {\n",
              "      margin-bottom: 4px;\n",
              "    }\n",
              "\n",
              "    [theme=dark] .colab-df-convert {\n",
              "      background-color: #3B4455;\n",
              "      fill: #D2E3FC;\n",
              "    }\n",
              "\n",
              "    [theme=dark] .colab-df-convert:hover {\n",
              "      background-color: #434B5C;\n",
              "      box-shadow: 0px 1px 3px 1px rgba(0, 0, 0, 0.15);\n",
              "      filter: drop-shadow(0px 1px 2px rgba(0, 0, 0, 0.3));\n",
              "      fill: #FFFFFF;\n",
              "    }\n",
              "  </style>\n",
              "\n",
              "    <script>\n",
              "      const buttonEl =\n",
              "        document.querySelector('#df-8fd5d536-c5df-4d25-a14a-dd13805f7f92 button.colab-df-convert');\n",
              "      buttonEl.style.display =\n",
              "        google.colab.kernel.accessAllowed ? 'block' : 'none';\n",
              "\n",
              "      async function convertToInteractive(key) {\n",
              "        const element = document.querySelector('#df-8fd5d536-c5df-4d25-a14a-dd13805f7f92');\n",
              "        const dataTable =\n",
              "          await google.colab.kernel.invokeFunction('convertToInteractive',\n",
              "                                                    [key], {});\n",
              "        if (!dataTable) return;\n",
              "\n",
              "        const docLinkHtml = 'Like what you see? Visit the ' +\n",
              "          '<a target=\"_blank\" href=https://colab.research.google.com/notebooks/data_table.ipynb>data table notebook</a>'\n",
              "          + ' to learn more about interactive tables.';\n",
              "        element.innerHTML = '';\n",
              "        dataTable['output_type'] = 'display_data';\n",
              "        await google.colab.output.renderOutput(dataTable, element);\n",
              "        const docLink = document.createElement('div');\n",
              "        docLink.innerHTML = docLinkHtml;\n",
              "        element.appendChild(docLink);\n",
              "      }\n",
              "    </script>\n",
              "  </div>\n",
              "\n",
              "    </div>\n",
              "  </div>\n"
            ]
          },
          "metadata": {},
          "execution_count": 306
        }
      ],
      "source": [
        "dataset.head(1)"
      ]
    },
    {
      "cell_type": "code",
      "execution_count": null,
      "id": "d2c5b56b",
      "metadata": {
        "colab": {
          "base_uri": "https://localhost:8080/",
          "height": 36
        },
        "id": "d2c5b56b",
        "outputId": "2c0493ad-23ed-4b0d-da87-ea483219da5b"
      },
      "outputs": [
        {
          "output_type": "execute_result",
          "data": {
            "text/plain": [
              "\"'nnpc', 'felele' 170000 'Water', 'and', 'Electricity' 'SELF', 'CONTAINED'\""
            ],
            "application/vnd.google.colaboratory.intrinsic+json": {
              "type": "string"
            }
          },
          "metadata": {},
          "execution_count": 307
        }
      ],
      "source": [
        "dataset.iloc[0].tags"
      ]
    },
    {
      "cell_type": "code",
      "execution_count": null,
      "id": "aa9a6669",
      "metadata": {
        "id": "aa9a6669"
      },
      "outputs": [],
      "source": [
        "new = dataset.drop(columns=['House_Location1', 'Property_type1', 'Amenities1'])"
      ]
    },
    {
      "cell_type": "code",
      "execution_count": null,
      "id": "8c3fcf45",
      "metadata": {
        "colab": {
          "base_uri": "https://localhost:8080/",
          "height": 112
        },
        "id": "8c3fcf45",
        "outputId": "170dbaa4-d279-445e-8a15-29b86619197d"
      },
      "outputs": [
        {
          "output_type": "execute_result",
          "data": {
            "text/plain": [
              "   House_Location   Price    Agent_no              Amenities   Property_type  \\\n",
              "0     nnpc felele  170000  8146545794  water and electricity  self contained   \n",
              "1  motel 5 felele   65000  8146545794  water and electricity     single room   \n",
              "\n",
              "   House_Image                                               tags  \n",
              "0  image 1.jpg  'nnpc', 'felele' 170000 'Water', 'and', 'Elect...  \n",
              "1  image 2.jpg  'motel', '5', 'felele' 65000 'Water', 'and', '...  "
            ],
            "text/html": [
              "\n",
              "  <div id=\"df-7cd24c25-5286-46de-84ba-aee27301be6a\" class=\"colab-df-container\">\n",
              "    <div>\n",
              "<style scoped>\n",
              "    .dataframe tbody tr th:only-of-type {\n",
              "        vertical-align: middle;\n",
              "    }\n",
              "\n",
              "    .dataframe tbody tr th {\n",
              "        vertical-align: top;\n",
              "    }\n",
              "\n",
              "    .dataframe thead th {\n",
              "        text-align: right;\n",
              "    }\n",
              "</style>\n",
              "<table border=\"1\" class=\"dataframe\">\n",
              "  <thead>\n",
              "    <tr style=\"text-align: right;\">\n",
              "      <th></th>\n",
              "      <th>House_Location</th>\n",
              "      <th>Price</th>\n",
              "      <th>Agent_no</th>\n",
              "      <th>Amenities</th>\n",
              "      <th>Property_type</th>\n",
              "      <th>House_Image</th>\n",
              "      <th>tags</th>\n",
              "    </tr>\n",
              "  </thead>\n",
              "  <tbody>\n",
              "    <tr>\n",
              "      <th>0</th>\n",
              "      <td>nnpc felele</td>\n",
              "      <td>170000</td>\n",
              "      <td>8146545794</td>\n",
              "      <td>water and electricity</td>\n",
              "      <td>self contained</td>\n",
              "      <td>image 1.jpg</td>\n",
              "      <td>'nnpc', 'felele' 170000 'Water', 'and', 'Elect...</td>\n",
              "    </tr>\n",
              "    <tr>\n",
              "      <th>1</th>\n",
              "      <td>motel 5 felele</td>\n",
              "      <td>65000</td>\n",
              "      <td>8146545794</td>\n",
              "      <td>water and electricity</td>\n",
              "      <td>single room</td>\n",
              "      <td>image 2.jpg</td>\n",
              "      <td>'motel', '5', 'felele' 65000 'Water', 'and', '...</td>\n",
              "    </tr>\n",
              "  </tbody>\n",
              "</table>\n",
              "</div>\n",
              "    <div class=\"colab-df-buttons\">\n",
              "\n",
              "  <div class=\"colab-df-container\">\n",
              "    <button class=\"colab-df-convert\" onclick=\"convertToInteractive('df-7cd24c25-5286-46de-84ba-aee27301be6a')\"\n",
              "            title=\"Convert this dataframe to an interactive table.\"\n",
              "            style=\"display:none;\">\n",
              "\n",
              "  <svg xmlns=\"http://www.w3.org/2000/svg\" height=\"24px\" viewBox=\"0 -960 960 960\">\n",
              "    <path d=\"M120-120v-720h720v720H120Zm60-500h600v-160H180v160Zm220 220h160v-160H400v160Zm0 220h160v-160H400v160ZM180-400h160v-160H180v160Zm440 0h160v-160H620v160ZM180-180h160v-160H180v160Zm440 0h160v-160H620v160Z\"/>\n",
              "  </svg>\n",
              "    </button>\n",
              "\n",
              "  <style>\n",
              "    .colab-df-container {\n",
              "      display:flex;\n",
              "      gap: 12px;\n",
              "    }\n",
              "\n",
              "    .colab-df-convert {\n",
              "      background-color: #E8F0FE;\n",
              "      border: none;\n",
              "      border-radius: 50%;\n",
              "      cursor: pointer;\n",
              "      display: none;\n",
              "      fill: #1967D2;\n",
              "      height: 32px;\n",
              "      padding: 0 0 0 0;\n",
              "      width: 32px;\n",
              "    }\n",
              "\n",
              "    .colab-df-convert:hover {\n",
              "      background-color: #E2EBFA;\n",
              "      box-shadow: 0px 1px 2px rgba(60, 64, 67, 0.3), 0px 1px 3px 1px rgba(60, 64, 67, 0.15);\n",
              "      fill: #174EA6;\n",
              "    }\n",
              "\n",
              "    .colab-df-buttons div {\n",
              "      margin-bottom: 4px;\n",
              "    }\n",
              "\n",
              "    [theme=dark] .colab-df-convert {\n",
              "      background-color: #3B4455;\n",
              "      fill: #D2E3FC;\n",
              "    }\n",
              "\n",
              "    [theme=dark] .colab-df-convert:hover {\n",
              "      background-color: #434B5C;\n",
              "      box-shadow: 0px 1px 3px 1px rgba(0, 0, 0, 0.15);\n",
              "      filter: drop-shadow(0px 1px 2px rgba(0, 0, 0, 0.3));\n",
              "      fill: #FFFFFF;\n",
              "    }\n",
              "  </style>\n",
              "\n",
              "    <script>\n",
              "      const buttonEl =\n",
              "        document.querySelector('#df-7cd24c25-5286-46de-84ba-aee27301be6a button.colab-df-convert');\n",
              "      buttonEl.style.display =\n",
              "        google.colab.kernel.accessAllowed ? 'block' : 'none';\n",
              "\n",
              "      async function convertToInteractive(key) {\n",
              "        const element = document.querySelector('#df-7cd24c25-5286-46de-84ba-aee27301be6a');\n",
              "        const dataTable =\n",
              "          await google.colab.kernel.invokeFunction('convertToInteractive',\n",
              "                                                    [key], {});\n",
              "        if (!dataTable) return;\n",
              "\n",
              "        const docLinkHtml = 'Like what you see? Visit the ' +\n",
              "          '<a target=\"_blank\" href=https://colab.research.google.com/notebooks/data_table.ipynb>data table notebook</a>'\n",
              "          + ' to learn more about interactive tables.';\n",
              "        element.innerHTML = '';\n",
              "        dataTable['output_type'] = 'display_data';\n",
              "        await google.colab.output.renderOutput(dataTable, element);\n",
              "        const docLink = document.createElement('div');\n",
              "        docLink.innerHTML = docLinkHtml;\n",
              "        element.appendChild(docLink);\n",
              "      }\n",
              "    </script>\n",
              "  </div>\n",
              "\n",
              "\n",
              "<div id=\"df-d9c92567-06ab-4d90-bc8a-accb30224457\">\n",
              "  <button class=\"colab-df-quickchart\" onclick=\"quickchart('df-d9c92567-06ab-4d90-bc8a-accb30224457')\"\n",
              "            title=\"Suggest charts.\"\n",
              "            style=\"display:none;\">\n",
              "\n",
              "<svg xmlns=\"http://www.w3.org/2000/svg\" height=\"24px\"viewBox=\"0 0 24 24\"\n",
              "     width=\"24px\">\n",
              "    <g>\n",
              "        <path d=\"M19 3H5c-1.1 0-2 .9-2 2v14c0 1.1.9 2 2 2h14c1.1 0 2-.9 2-2V5c0-1.1-.9-2-2-2zM9 17H7v-7h2v7zm4 0h-2V7h2v10zm4 0h-2v-4h2v4z\"/>\n",
              "    </g>\n",
              "</svg>\n",
              "  </button>\n",
              "\n",
              "<style>\n",
              "  .colab-df-quickchart {\n",
              "      --bg-color: #E8F0FE;\n",
              "      --fill-color: #1967D2;\n",
              "      --hover-bg-color: #E2EBFA;\n",
              "      --hover-fill-color: #174EA6;\n",
              "      --disabled-fill-color: #AAA;\n",
              "      --disabled-bg-color: #DDD;\n",
              "  }\n",
              "\n",
              "  [theme=dark] .colab-df-quickchart {\n",
              "      --bg-color: #3B4455;\n",
              "      --fill-color: #D2E3FC;\n",
              "      --hover-bg-color: #434B5C;\n",
              "      --hover-fill-color: #FFFFFF;\n",
              "      --disabled-bg-color: #3B4455;\n",
              "      --disabled-fill-color: #666;\n",
              "  }\n",
              "\n",
              "  .colab-df-quickchart {\n",
              "    background-color: var(--bg-color);\n",
              "    border: none;\n",
              "    border-radius: 50%;\n",
              "    cursor: pointer;\n",
              "    display: none;\n",
              "    fill: var(--fill-color);\n",
              "    height: 32px;\n",
              "    padding: 0;\n",
              "    width: 32px;\n",
              "  }\n",
              "\n",
              "  .colab-df-quickchart:hover {\n",
              "    background-color: var(--hover-bg-color);\n",
              "    box-shadow: 0 1px 2px rgba(60, 64, 67, 0.3), 0 1px 3px 1px rgba(60, 64, 67, 0.15);\n",
              "    fill: var(--button-hover-fill-color);\n",
              "  }\n",
              "\n",
              "  .colab-df-quickchart-complete:disabled,\n",
              "  .colab-df-quickchart-complete:disabled:hover {\n",
              "    background-color: var(--disabled-bg-color);\n",
              "    fill: var(--disabled-fill-color);\n",
              "    box-shadow: none;\n",
              "  }\n",
              "\n",
              "  .colab-df-spinner {\n",
              "    border: 2px solid var(--fill-color);\n",
              "    border-color: transparent;\n",
              "    border-bottom-color: var(--fill-color);\n",
              "    animation:\n",
              "      spin 1s steps(1) infinite;\n",
              "  }\n",
              "\n",
              "  @keyframes spin {\n",
              "    0% {\n",
              "      border-color: transparent;\n",
              "      border-bottom-color: var(--fill-color);\n",
              "      border-left-color: var(--fill-color);\n",
              "    }\n",
              "    20% {\n",
              "      border-color: transparent;\n",
              "      border-left-color: var(--fill-color);\n",
              "      border-top-color: var(--fill-color);\n",
              "    }\n",
              "    30% {\n",
              "      border-color: transparent;\n",
              "      border-left-color: var(--fill-color);\n",
              "      border-top-color: var(--fill-color);\n",
              "      border-right-color: var(--fill-color);\n",
              "    }\n",
              "    40% {\n",
              "      border-color: transparent;\n",
              "      border-right-color: var(--fill-color);\n",
              "      border-top-color: var(--fill-color);\n",
              "    }\n",
              "    60% {\n",
              "      border-color: transparent;\n",
              "      border-right-color: var(--fill-color);\n",
              "    }\n",
              "    80% {\n",
              "      border-color: transparent;\n",
              "      border-right-color: var(--fill-color);\n",
              "      border-bottom-color: var(--fill-color);\n",
              "    }\n",
              "    90% {\n",
              "      border-color: transparent;\n",
              "      border-bottom-color: var(--fill-color);\n",
              "    }\n",
              "  }\n",
              "</style>\n",
              "\n",
              "  <script>\n",
              "    async function quickchart(key) {\n",
              "      const quickchartButtonEl =\n",
              "        document.querySelector('#' + key + ' button');\n",
              "      quickchartButtonEl.disabled = true;  // To prevent multiple clicks.\n",
              "      quickchartButtonEl.classList.add('colab-df-spinner');\n",
              "      try {\n",
              "        const charts = await google.colab.kernel.invokeFunction(\n",
              "            'suggestCharts', [key], {});\n",
              "      } catch (error) {\n",
              "        console.error('Error during call to suggestCharts:', error);\n",
              "      }\n",
              "      quickchartButtonEl.classList.remove('colab-df-spinner');\n",
              "      quickchartButtonEl.classList.add('colab-df-quickchart-complete');\n",
              "    }\n",
              "    (() => {\n",
              "      let quickchartButtonEl =\n",
              "        document.querySelector('#df-d9c92567-06ab-4d90-bc8a-accb30224457 button');\n",
              "      quickchartButtonEl.style.display =\n",
              "        google.colab.kernel.accessAllowed ? 'block' : 'none';\n",
              "    })();\n",
              "  </script>\n",
              "</div>\n",
              "    </div>\n",
              "  </div>\n"
            ]
          },
          "metadata": {},
          "execution_count": 309
        }
      ],
      "source": [
        "new.head(2)"
      ]
    },
    {
      "cell_type": "code",
      "execution_count": null,
      "id": "9c4972b5",
      "metadata": {
        "id": "9c4972b5"
      },
      "outputs": [],
      "source": [
        "new['tags'] = new['tags'].apply(lambda x:x.lower())"
      ]
    },
    {
      "cell_type": "code",
      "source": [],
      "metadata": {
        "id": "LIfbqRA5eqb7"
      },
      "id": "LIfbqRA5eqb7",
      "execution_count": null,
      "outputs": []
    },
    {
      "cell_type": "code",
      "execution_count": null,
      "id": "c51657ee",
      "metadata": {
        "colab": {
          "base_uri": "https://localhost:8080/",
          "height": 112
        },
        "id": "c51657ee",
        "outputId": "fb876f29-a72b-475e-e383-949133ff0ccd"
      },
      "outputs": [
        {
          "output_type": "execute_result",
          "data": {
            "text/plain": [
              "   House_Location   Price    Agent_no              Amenities   Property_type  \\\n",
              "0     nnpc felele  170000  8146545794  water and electricity  self contained   \n",
              "1  motel 5 felele   65000  8146545794  water and electricity     single room   \n",
              "\n",
              "   House_Image                                               tags  \n",
              "0  image 1.jpg  'nnpc', 'felele' 170000 'water', 'and', 'elect...  \n",
              "1  image 2.jpg  'motel', '5', 'felele' 65000 'water', 'and', '...  "
            ],
            "text/html": [
              "\n",
              "  <div id=\"df-cd0f0db7-e797-42c5-9f3d-2d0fe943c129\" class=\"colab-df-container\">\n",
              "    <div>\n",
              "<style scoped>\n",
              "    .dataframe tbody tr th:only-of-type {\n",
              "        vertical-align: middle;\n",
              "    }\n",
              "\n",
              "    .dataframe tbody tr th {\n",
              "        vertical-align: top;\n",
              "    }\n",
              "\n",
              "    .dataframe thead th {\n",
              "        text-align: right;\n",
              "    }\n",
              "</style>\n",
              "<table border=\"1\" class=\"dataframe\">\n",
              "  <thead>\n",
              "    <tr style=\"text-align: right;\">\n",
              "      <th></th>\n",
              "      <th>House_Location</th>\n",
              "      <th>Price</th>\n",
              "      <th>Agent_no</th>\n",
              "      <th>Amenities</th>\n",
              "      <th>Property_type</th>\n",
              "      <th>House_Image</th>\n",
              "      <th>tags</th>\n",
              "    </tr>\n",
              "  </thead>\n",
              "  <tbody>\n",
              "    <tr>\n",
              "      <th>0</th>\n",
              "      <td>nnpc felele</td>\n",
              "      <td>170000</td>\n",
              "      <td>8146545794</td>\n",
              "      <td>water and electricity</td>\n",
              "      <td>self contained</td>\n",
              "      <td>image 1.jpg</td>\n",
              "      <td>'nnpc', 'felele' 170000 'water', 'and', 'elect...</td>\n",
              "    </tr>\n",
              "    <tr>\n",
              "      <th>1</th>\n",
              "      <td>motel 5 felele</td>\n",
              "      <td>65000</td>\n",
              "      <td>8146545794</td>\n",
              "      <td>water and electricity</td>\n",
              "      <td>single room</td>\n",
              "      <td>image 2.jpg</td>\n",
              "      <td>'motel', '5', 'felele' 65000 'water', 'and', '...</td>\n",
              "    </tr>\n",
              "  </tbody>\n",
              "</table>\n",
              "</div>\n",
              "    <div class=\"colab-df-buttons\">\n",
              "\n",
              "  <div class=\"colab-df-container\">\n",
              "    <button class=\"colab-df-convert\" onclick=\"convertToInteractive('df-cd0f0db7-e797-42c5-9f3d-2d0fe943c129')\"\n",
              "            title=\"Convert this dataframe to an interactive table.\"\n",
              "            style=\"display:none;\">\n",
              "\n",
              "  <svg xmlns=\"http://www.w3.org/2000/svg\" height=\"24px\" viewBox=\"0 -960 960 960\">\n",
              "    <path d=\"M120-120v-720h720v720H120Zm60-500h600v-160H180v160Zm220 220h160v-160H400v160Zm0 220h160v-160H400v160ZM180-400h160v-160H180v160Zm440 0h160v-160H620v160ZM180-180h160v-160H180v160Zm440 0h160v-160H620v160Z\"/>\n",
              "  </svg>\n",
              "    </button>\n",
              "\n",
              "  <style>\n",
              "    .colab-df-container {\n",
              "      display:flex;\n",
              "      gap: 12px;\n",
              "    }\n",
              "\n",
              "    .colab-df-convert {\n",
              "      background-color: #E8F0FE;\n",
              "      border: none;\n",
              "      border-radius: 50%;\n",
              "      cursor: pointer;\n",
              "      display: none;\n",
              "      fill: #1967D2;\n",
              "      height: 32px;\n",
              "      padding: 0 0 0 0;\n",
              "      width: 32px;\n",
              "    }\n",
              "\n",
              "    .colab-df-convert:hover {\n",
              "      background-color: #E2EBFA;\n",
              "      box-shadow: 0px 1px 2px rgba(60, 64, 67, 0.3), 0px 1px 3px 1px rgba(60, 64, 67, 0.15);\n",
              "      fill: #174EA6;\n",
              "    }\n",
              "\n",
              "    .colab-df-buttons div {\n",
              "      margin-bottom: 4px;\n",
              "    }\n",
              "\n",
              "    [theme=dark] .colab-df-convert {\n",
              "      background-color: #3B4455;\n",
              "      fill: #D2E3FC;\n",
              "    }\n",
              "\n",
              "    [theme=dark] .colab-df-convert:hover {\n",
              "      background-color: #434B5C;\n",
              "      box-shadow: 0px 1px 3px 1px rgba(0, 0, 0, 0.15);\n",
              "      filter: drop-shadow(0px 1px 2px rgba(0, 0, 0, 0.3));\n",
              "      fill: #FFFFFF;\n",
              "    }\n",
              "  </style>\n",
              "\n",
              "    <script>\n",
              "      const buttonEl =\n",
              "        document.querySelector('#df-cd0f0db7-e797-42c5-9f3d-2d0fe943c129 button.colab-df-convert');\n",
              "      buttonEl.style.display =\n",
              "        google.colab.kernel.accessAllowed ? 'block' : 'none';\n",
              "\n",
              "      async function convertToInteractive(key) {\n",
              "        const element = document.querySelector('#df-cd0f0db7-e797-42c5-9f3d-2d0fe943c129');\n",
              "        const dataTable =\n",
              "          await google.colab.kernel.invokeFunction('convertToInteractive',\n",
              "                                                    [key], {});\n",
              "        if (!dataTable) return;\n",
              "\n",
              "        const docLinkHtml = 'Like what you see? Visit the ' +\n",
              "          '<a target=\"_blank\" href=https://colab.research.google.com/notebooks/data_table.ipynb>data table notebook</a>'\n",
              "          + ' to learn more about interactive tables.';\n",
              "        element.innerHTML = '';\n",
              "        dataTable['output_type'] = 'display_data';\n",
              "        await google.colab.output.renderOutput(dataTable, element);\n",
              "        const docLink = document.createElement('div');\n",
              "        docLink.innerHTML = docLinkHtml;\n",
              "        element.appendChild(docLink);\n",
              "      }\n",
              "    </script>\n",
              "  </div>\n",
              "\n",
              "\n",
              "<div id=\"df-f9f664c8-02f2-45ac-93cb-32aa4d5de528\">\n",
              "  <button class=\"colab-df-quickchart\" onclick=\"quickchart('df-f9f664c8-02f2-45ac-93cb-32aa4d5de528')\"\n",
              "            title=\"Suggest charts.\"\n",
              "            style=\"display:none;\">\n",
              "\n",
              "<svg xmlns=\"http://www.w3.org/2000/svg\" height=\"24px\"viewBox=\"0 0 24 24\"\n",
              "     width=\"24px\">\n",
              "    <g>\n",
              "        <path d=\"M19 3H5c-1.1 0-2 .9-2 2v14c0 1.1.9 2 2 2h14c1.1 0 2-.9 2-2V5c0-1.1-.9-2-2-2zM9 17H7v-7h2v7zm4 0h-2V7h2v10zm4 0h-2v-4h2v4z\"/>\n",
              "    </g>\n",
              "</svg>\n",
              "  </button>\n",
              "\n",
              "<style>\n",
              "  .colab-df-quickchart {\n",
              "      --bg-color: #E8F0FE;\n",
              "      --fill-color: #1967D2;\n",
              "      --hover-bg-color: #E2EBFA;\n",
              "      --hover-fill-color: #174EA6;\n",
              "      --disabled-fill-color: #AAA;\n",
              "      --disabled-bg-color: #DDD;\n",
              "  }\n",
              "\n",
              "  [theme=dark] .colab-df-quickchart {\n",
              "      --bg-color: #3B4455;\n",
              "      --fill-color: #D2E3FC;\n",
              "      --hover-bg-color: #434B5C;\n",
              "      --hover-fill-color: #FFFFFF;\n",
              "      --disabled-bg-color: #3B4455;\n",
              "      --disabled-fill-color: #666;\n",
              "  }\n",
              "\n",
              "  .colab-df-quickchart {\n",
              "    background-color: var(--bg-color);\n",
              "    border: none;\n",
              "    border-radius: 50%;\n",
              "    cursor: pointer;\n",
              "    display: none;\n",
              "    fill: var(--fill-color);\n",
              "    height: 32px;\n",
              "    padding: 0;\n",
              "    width: 32px;\n",
              "  }\n",
              "\n",
              "  .colab-df-quickchart:hover {\n",
              "    background-color: var(--hover-bg-color);\n",
              "    box-shadow: 0 1px 2px rgba(60, 64, 67, 0.3), 0 1px 3px 1px rgba(60, 64, 67, 0.15);\n",
              "    fill: var(--button-hover-fill-color);\n",
              "  }\n",
              "\n",
              "  .colab-df-quickchart-complete:disabled,\n",
              "  .colab-df-quickchart-complete:disabled:hover {\n",
              "    background-color: var(--disabled-bg-color);\n",
              "    fill: var(--disabled-fill-color);\n",
              "    box-shadow: none;\n",
              "  }\n",
              "\n",
              "  .colab-df-spinner {\n",
              "    border: 2px solid var(--fill-color);\n",
              "    border-color: transparent;\n",
              "    border-bottom-color: var(--fill-color);\n",
              "    animation:\n",
              "      spin 1s steps(1) infinite;\n",
              "  }\n",
              "\n",
              "  @keyframes spin {\n",
              "    0% {\n",
              "      border-color: transparent;\n",
              "      border-bottom-color: var(--fill-color);\n",
              "      border-left-color: var(--fill-color);\n",
              "    }\n",
              "    20% {\n",
              "      border-color: transparent;\n",
              "      border-left-color: var(--fill-color);\n",
              "      border-top-color: var(--fill-color);\n",
              "    }\n",
              "    30% {\n",
              "      border-color: transparent;\n",
              "      border-left-color: var(--fill-color);\n",
              "      border-top-color: var(--fill-color);\n",
              "      border-right-color: var(--fill-color);\n",
              "    }\n",
              "    40% {\n",
              "      border-color: transparent;\n",
              "      border-right-color: var(--fill-color);\n",
              "      border-top-color: var(--fill-color);\n",
              "    }\n",
              "    60% {\n",
              "      border-color: transparent;\n",
              "      border-right-color: var(--fill-color);\n",
              "    }\n",
              "    80% {\n",
              "      border-color: transparent;\n",
              "      border-right-color: var(--fill-color);\n",
              "      border-bottom-color: var(--fill-color);\n",
              "    }\n",
              "    90% {\n",
              "      border-color: transparent;\n",
              "      border-bottom-color: var(--fill-color);\n",
              "    }\n",
              "  }\n",
              "</style>\n",
              "\n",
              "  <script>\n",
              "    async function quickchart(key) {\n",
              "      const quickchartButtonEl =\n",
              "        document.querySelector('#' + key + ' button');\n",
              "      quickchartButtonEl.disabled = true;  // To prevent multiple clicks.\n",
              "      quickchartButtonEl.classList.add('colab-df-spinner');\n",
              "      try {\n",
              "        const charts = await google.colab.kernel.invokeFunction(\n",
              "            'suggestCharts', [key], {});\n",
              "      } catch (error) {\n",
              "        console.error('Error during call to suggestCharts:', error);\n",
              "      }\n",
              "      quickchartButtonEl.classList.remove('colab-df-spinner');\n",
              "      quickchartButtonEl.classList.add('colab-df-quickchart-complete');\n",
              "    }\n",
              "    (() => {\n",
              "      let quickchartButtonEl =\n",
              "        document.querySelector('#df-f9f664c8-02f2-45ac-93cb-32aa4d5de528 button');\n",
              "      quickchartButtonEl.style.display =\n",
              "        google.colab.kernel.accessAllowed ? 'block' : 'none';\n",
              "    })();\n",
              "  </script>\n",
              "</div>\n",
              "    </div>\n",
              "  </div>\n"
            ]
          },
          "metadata": {},
          "execution_count": 311
        }
      ],
      "source": [
        "new.head(2)"
      ]
    },
    {
      "cell_type": "code",
      "execution_count": null,
      "id": "a364ae9b",
      "metadata": {
        "colab": {
          "base_uri": "https://localhost:8080/",
          "height": 36
        },
        "id": "a364ae9b",
        "outputId": "0c21f46d-bbe7-4ba6-de46-30ea66f0ccc9"
      },
      "outputs": [
        {
          "output_type": "execute_result",
          "data": {
            "text/plain": [
              "\"'nnpc', 'felele' 170000 'water', 'and', 'electricity' 'self', 'contained'\""
            ],
            "application/vnd.google.colaboratory.intrinsic+json": {
              "type": "string"
            }
          },
          "metadata": {},
          "execution_count": 312
        }
      ],
      "source": [
        "new.iloc[0].tags"
      ]
    },
    {
      "cell_type": "code",
      "execution_count": null,
      "id": "1e14fbf2",
      "metadata": {
        "id": "1e14fbf2"
      },
      "outputs": [],
      "source": [
        "import nltk"
      ]
    },
    {
      "cell_type": "code",
      "execution_count": null,
      "id": "b83819f7",
      "metadata": {
        "id": "b83819f7"
      },
      "outputs": [],
      "source": [
        "from nltk.stem.porter import PorterStemmer"
      ]
    },
    {
      "cell_type": "code",
      "execution_count": null,
      "id": "0eec631c",
      "metadata": {
        "id": "0eec631c"
      },
      "outputs": [],
      "source": [
        "ps = PorterStemmer()"
      ]
    },
    {
      "cell_type": "code",
      "execution_count": null,
      "id": "c616c261",
      "metadata": {
        "id": "c616c261"
      },
      "outputs": [],
      "source": [
        "def stem(text):\n",
        "    y=[]\n",
        "    for i in text.split():\n",
        "        y.append(ps.stem(i))\n",
        "\n",
        "    return \" \".join(y)"
      ]
    },
    {
      "cell_type": "code",
      "execution_count": null,
      "id": "a8823cca",
      "metadata": {
        "id": "a8823cca"
      },
      "outputs": [],
      "source": [
        "new['tags'] = new['tags'].apply(stem)"
      ]
    },
    {
      "cell_type": "code",
      "execution_count": null,
      "id": "ee0ca9e4",
      "metadata": {
        "colab": {
          "base_uri": "https://localhost:8080/",
          "height": 112
        },
        "id": "ee0ca9e4",
        "outputId": "d9109cb8-879e-4d31-c401-0e1bb871c898"
      },
      "outputs": [
        {
          "output_type": "execute_result",
          "data": {
            "text/plain": [
              "   House_Location   Price    Agent_no              Amenities   Property_type  \\\n",
              "0     nnpc felele  170000  8146545794  water and electricity  self contained   \n",
              "1  motel 5 felele   65000  8146545794  water and electricity     single room   \n",
              "\n",
              "   House_Image                                               tags  \n",
              "0  image 1.jpg  'nnpc', 'felele' 170000 'water', 'and', 'elect...  \n",
              "1  image 2.jpg  'motel', '5', 'felele' 65000 'water', 'and', '...  "
            ],
            "text/html": [
              "\n",
              "  <div id=\"df-207a7ddc-d28e-44ee-9d19-0f8741e2a3b3\" class=\"colab-df-container\">\n",
              "    <div>\n",
              "<style scoped>\n",
              "    .dataframe tbody tr th:only-of-type {\n",
              "        vertical-align: middle;\n",
              "    }\n",
              "\n",
              "    .dataframe tbody tr th {\n",
              "        vertical-align: top;\n",
              "    }\n",
              "\n",
              "    .dataframe thead th {\n",
              "        text-align: right;\n",
              "    }\n",
              "</style>\n",
              "<table border=\"1\" class=\"dataframe\">\n",
              "  <thead>\n",
              "    <tr style=\"text-align: right;\">\n",
              "      <th></th>\n",
              "      <th>House_Location</th>\n",
              "      <th>Price</th>\n",
              "      <th>Agent_no</th>\n",
              "      <th>Amenities</th>\n",
              "      <th>Property_type</th>\n",
              "      <th>House_Image</th>\n",
              "      <th>tags</th>\n",
              "    </tr>\n",
              "  </thead>\n",
              "  <tbody>\n",
              "    <tr>\n",
              "      <th>0</th>\n",
              "      <td>nnpc felele</td>\n",
              "      <td>170000</td>\n",
              "      <td>8146545794</td>\n",
              "      <td>water and electricity</td>\n",
              "      <td>self contained</td>\n",
              "      <td>image 1.jpg</td>\n",
              "      <td>'nnpc', 'felele' 170000 'water', 'and', 'elect...</td>\n",
              "    </tr>\n",
              "    <tr>\n",
              "      <th>1</th>\n",
              "      <td>motel 5 felele</td>\n",
              "      <td>65000</td>\n",
              "      <td>8146545794</td>\n",
              "      <td>water and electricity</td>\n",
              "      <td>single room</td>\n",
              "      <td>image 2.jpg</td>\n",
              "      <td>'motel', '5', 'felele' 65000 'water', 'and', '...</td>\n",
              "    </tr>\n",
              "  </tbody>\n",
              "</table>\n",
              "</div>\n",
              "    <div class=\"colab-df-buttons\">\n",
              "\n",
              "  <div class=\"colab-df-container\">\n",
              "    <button class=\"colab-df-convert\" onclick=\"convertToInteractive('df-207a7ddc-d28e-44ee-9d19-0f8741e2a3b3')\"\n",
              "            title=\"Convert this dataframe to an interactive table.\"\n",
              "            style=\"display:none;\">\n",
              "\n",
              "  <svg xmlns=\"http://www.w3.org/2000/svg\" height=\"24px\" viewBox=\"0 -960 960 960\">\n",
              "    <path d=\"M120-120v-720h720v720H120Zm60-500h600v-160H180v160Zm220 220h160v-160H400v160Zm0 220h160v-160H400v160ZM180-400h160v-160H180v160Zm440 0h160v-160H620v160ZM180-180h160v-160H180v160Zm440 0h160v-160H620v160Z\"/>\n",
              "  </svg>\n",
              "    </button>\n",
              "\n",
              "  <style>\n",
              "    .colab-df-container {\n",
              "      display:flex;\n",
              "      gap: 12px;\n",
              "    }\n",
              "\n",
              "    .colab-df-convert {\n",
              "      background-color: #E8F0FE;\n",
              "      border: none;\n",
              "      border-radius: 50%;\n",
              "      cursor: pointer;\n",
              "      display: none;\n",
              "      fill: #1967D2;\n",
              "      height: 32px;\n",
              "      padding: 0 0 0 0;\n",
              "      width: 32px;\n",
              "    }\n",
              "\n",
              "    .colab-df-convert:hover {\n",
              "      background-color: #E2EBFA;\n",
              "      box-shadow: 0px 1px 2px rgba(60, 64, 67, 0.3), 0px 1px 3px 1px rgba(60, 64, 67, 0.15);\n",
              "      fill: #174EA6;\n",
              "    }\n",
              "\n",
              "    .colab-df-buttons div {\n",
              "      margin-bottom: 4px;\n",
              "    }\n",
              "\n",
              "    [theme=dark] .colab-df-convert {\n",
              "      background-color: #3B4455;\n",
              "      fill: #D2E3FC;\n",
              "    }\n",
              "\n",
              "    [theme=dark] .colab-df-convert:hover {\n",
              "      background-color: #434B5C;\n",
              "      box-shadow: 0px 1px 3px 1px rgba(0, 0, 0, 0.15);\n",
              "      filter: drop-shadow(0px 1px 2px rgba(0, 0, 0, 0.3));\n",
              "      fill: #FFFFFF;\n",
              "    }\n",
              "  </style>\n",
              "\n",
              "    <script>\n",
              "      const buttonEl =\n",
              "        document.querySelector('#df-207a7ddc-d28e-44ee-9d19-0f8741e2a3b3 button.colab-df-convert');\n",
              "      buttonEl.style.display =\n",
              "        google.colab.kernel.accessAllowed ? 'block' : 'none';\n",
              "\n",
              "      async function convertToInteractive(key) {\n",
              "        const element = document.querySelector('#df-207a7ddc-d28e-44ee-9d19-0f8741e2a3b3');\n",
              "        const dataTable =\n",
              "          await google.colab.kernel.invokeFunction('convertToInteractive',\n",
              "                                                    [key], {});\n",
              "        if (!dataTable) return;\n",
              "\n",
              "        const docLinkHtml = 'Like what you see? Visit the ' +\n",
              "          '<a target=\"_blank\" href=https://colab.research.google.com/notebooks/data_table.ipynb>data table notebook</a>'\n",
              "          + ' to learn more about interactive tables.';\n",
              "        element.innerHTML = '';\n",
              "        dataTable['output_type'] = 'display_data';\n",
              "        await google.colab.output.renderOutput(dataTable, element);\n",
              "        const docLink = document.createElement('div');\n",
              "        docLink.innerHTML = docLinkHtml;\n",
              "        element.appendChild(docLink);\n",
              "      }\n",
              "    </script>\n",
              "  </div>\n",
              "\n",
              "\n",
              "<div id=\"df-096ff08c-d3fb-4e8a-a651-596bc0154c14\">\n",
              "  <button class=\"colab-df-quickchart\" onclick=\"quickchart('df-096ff08c-d3fb-4e8a-a651-596bc0154c14')\"\n",
              "            title=\"Suggest charts.\"\n",
              "            style=\"display:none;\">\n",
              "\n",
              "<svg xmlns=\"http://www.w3.org/2000/svg\" height=\"24px\"viewBox=\"0 0 24 24\"\n",
              "     width=\"24px\">\n",
              "    <g>\n",
              "        <path d=\"M19 3H5c-1.1 0-2 .9-2 2v14c0 1.1.9 2 2 2h14c1.1 0 2-.9 2-2V5c0-1.1-.9-2-2-2zM9 17H7v-7h2v7zm4 0h-2V7h2v10zm4 0h-2v-4h2v4z\"/>\n",
              "    </g>\n",
              "</svg>\n",
              "  </button>\n",
              "\n",
              "<style>\n",
              "  .colab-df-quickchart {\n",
              "      --bg-color: #E8F0FE;\n",
              "      --fill-color: #1967D2;\n",
              "      --hover-bg-color: #E2EBFA;\n",
              "      --hover-fill-color: #174EA6;\n",
              "      --disabled-fill-color: #AAA;\n",
              "      --disabled-bg-color: #DDD;\n",
              "  }\n",
              "\n",
              "  [theme=dark] .colab-df-quickchart {\n",
              "      --bg-color: #3B4455;\n",
              "      --fill-color: #D2E3FC;\n",
              "      --hover-bg-color: #434B5C;\n",
              "      --hover-fill-color: #FFFFFF;\n",
              "      --disabled-bg-color: #3B4455;\n",
              "      --disabled-fill-color: #666;\n",
              "  }\n",
              "\n",
              "  .colab-df-quickchart {\n",
              "    background-color: var(--bg-color);\n",
              "    border: none;\n",
              "    border-radius: 50%;\n",
              "    cursor: pointer;\n",
              "    display: none;\n",
              "    fill: var(--fill-color);\n",
              "    height: 32px;\n",
              "    padding: 0;\n",
              "    width: 32px;\n",
              "  }\n",
              "\n",
              "  .colab-df-quickchart:hover {\n",
              "    background-color: var(--hover-bg-color);\n",
              "    box-shadow: 0 1px 2px rgba(60, 64, 67, 0.3), 0 1px 3px 1px rgba(60, 64, 67, 0.15);\n",
              "    fill: var(--button-hover-fill-color);\n",
              "  }\n",
              "\n",
              "  .colab-df-quickchart-complete:disabled,\n",
              "  .colab-df-quickchart-complete:disabled:hover {\n",
              "    background-color: var(--disabled-bg-color);\n",
              "    fill: var(--disabled-fill-color);\n",
              "    box-shadow: none;\n",
              "  }\n",
              "\n",
              "  .colab-df-spinner {\n",
              "    border: 2px solid var(--fill-color);\n",
              "    border-color: transparent;\n",
              "    border-bottom-color: var(--fill-color);\n",
              "    animation:\n",
              "      spin 1s steps(1) infinite;\n",
              "  }\n",
              "\n",
              "  @keyframes spin {\n",
              "    0% {\n",
              "      border-color: transparent;\n",
              "      border-bottom-color: var(--fill-color);\n",
              "      border-left-color: var(--fill-color);\n",
              "    }\n",
              "    20% {\n",
              "      border-color: transparent;\n",
              "      border-left-color: var(--fill-color);\n",
              "      border-top-color: var(--fill-color);\n",
              "    }\n",
              "    30% {\n",
              "      border-color: transparent;\n",
              "      border-left-color: var(--fill-color);\n",
              "      border-top-color: var(--fill-color);\n",
              "      border-right-color: var(--fill-color);\n",
              "    }\n",
              "    40% {\n",
              "      border-color: transparent;\n",
              "      border-right-color: var(--fill-color);\n",
              "      border-top-color: var(--fill-color);\n",
              "    }\n",
              "    60% {\n",
              "      border-color: transparent;\n",
              "      border-right-color: var(--fill-color);\n",
              "    }\n",
              "    80% {\n",
              "      border-color: transparent;\n",
              "      border-right-color: var(--fill-color);\n",
              "      border-bottom-color: var(--fill-color);\n",
              "    }\n",
              "    90% {\n",
              "      border-color: transparent;\n",
              "      border-bottom-color: var(--fill-color);\n",
              "    }\n",
              "  }\n",
              "</style>\n",
              "\n",
              "  <script>\n",
              "    async function quickchart(key) {\n",
              "      const quickchartButtonEl =\n",
              "        document.querySelector('#' + key + ' button');\n",
              "      quickchartButtonEl.disabled = true;  // To prevent multiple clicks.\n",
              "      quickchartButtonEl.classList.add('colab-df-spinner');\n",
              "      try {\n",
              "        const charts = await google.colab.kernel.invokeFunction(\n",
              "            'suggestCharts', [key], {});\n",
              "      } catch (error) {\n",
              "        console.error('Error during call to suggestCharts:', error);\n",
              "      }\n",
              "      quickchartButtonEl.classList.remove('colab-df-spinner');\n",
              "      quickchartButtonEl.classList.add('colab-df-quickchart-complete');\n",
              "    }\n",
              "    (() => {\n",
              "      let quickchartButtonEl =\n",
              "        document.querySelector('#df-096ff08c-d3fb-4e8a-a651-596bc0154c14 button');\n",
              "      quickchartButtonEl.style.display =\n",
              "        google.colab.kernel.accessAllowed ? 'block' : 'none';\n",
              "    })();\n",
              "  </script>\n",
              "</div>\n",
              "    </div>\n",
              "  </div>\n"
            ]
          },
          "metadata": {},
          "execution_count": 318
        }
      ],
      "source": [
        "new.head(2)"
      ]
    },
    {
      "cell_type": "code",
      "execution_count": null,
      "id": "6a080e94",
      "metadata": {
        "id": "6a080e94"
      },
      "outputs": [],
      "source": [
        "# counter vectorizing"
      ]
    },
    {
      "cell_type": "code",
      "execution_count": null,
      "id": "05e4b00b",
      "metadata": {
        "id": "05e4b00b"
      },
      "outputs": [],
      "source": [
        "from sklearn.feature_extraction.text import CountVectorizer"
      ]
    },
    {
      "cell_type": "code",
      "execution_count": null,
      "id": "e6aa0f88",
      "metadata": {
        "id": "e6aa0f88"
      },
      "outputs": [],
      "source": [
        "cv = CountVectorizer(max_features = 5000, stop_words='english')"
      ]
    },
    {
      "cell_type": "code",
      "execution_count": null,
      "id": "db420f20",
      "metadata": {
        "id": "db420f20"
      },
      "outputs": [],
      "source": [
        "vector = cv.fit_transform(new['tags']).toarray()"
      ]
    },
    {
      "cell_type": "code",
      "execution_count": null,
      "id": "0a2b490a",
      "metadata": {
        "colab": {
          "base_uri": "https://localhost:8080/"
        },
        "id": "0a2b490a",
        "outputId": "6fffeda2-bda2-4279-f816-8f7fb35a2629"
      },
      "outputs": [
        {
          "output_type": "execute_result",
          "data": {
            "text/plain": [
              "array([[0, 0, 0, ..., 1, 0, 1],\n",
              "       [0, 0, 0, ..., 0, 1, 1],\n",
              "       [0, 0, 0, ..., 0, 1, 1],\n",
              "       ...,\n",
              "       [0, 0, 0, ..., 1, 0, 1],\n",
              "       [0, 0, 0, ..., 1, 0, 1],\n",
              "       [0, 0, 0, ..., 0, 1, 1]])"
            ]
          },
          "metadata": {},
          "execution_count": 322
        }
      ],
      "source": [
        "vector"
      ]
    },
    {
      "cell_type": "code",
      "execution_count": null,
      "id": "0c37e688",
      "metadata": {
        "id": "0c37e688"
      },
      "outputs": [],
      "source": [
        "from sklearn.metrics.pairwise import cosine_similarity"
      ]
    },
    {
      "cell_type": "code",
      "execution_count": null,
      "id": "b3e62100",
      "metadata": {
        "id": "b3e62100"
      },
      "outputs": [],
      "source": [
        "similarity = cosine_similarity(vector)"
      ]
    },
    {
      "cell_type": "code",
      "execution_count": null,
      "id": "8fe4d640",
      "metadata": {
        "colab": {
          "base_uri": "https://localhost:8080/"
        },
        "id": "8fe4d640",
        "outputId": "91b8339f-bdc5-49c6-a605-a9ec0c3854bf"
      },
      "outputs": [
        {
          "output_type": "execute_result",
          "data": {
            "text/plain": [
              "array([[1.        , 0.42857143, 0.42857143, ..., 0.6172134 , 0.77151675,\n",
              "        0.57142857],\n",
              "       [0.42857143, 1.        , 0.71428571, ..., 0.3086067 , 0.46291005,\n",
              "        0.71428571],\n",
              "       [0.42857143, 0.71428571, 1.        , ..., 0.3086067 , 0.46291005,\n",
              "        0.71428571],\n",
              "       ...,\n",
              "       [0.6172134 , 0.3086067 , 0.3086067 , ..., 1.        , 0.66666667,\n",
              "        0.3086067 ],\n",
              "       [0.77151675, 0.46291005, 0.46291005, ..., 0.66666667, 1.        ,\n",
              "        0.46291005],\n",
              "       [0.57142857, 0.71428571, 0.71428571, ..., 0.3086067 , 0.46291005,\n",
              "        1.        ]])"
            ]
          },
          "metadata": {},
          "execution_count": 325
        }
      ],
      "source": [
        "similarity"
      ]
    },
    {
      "cell_type": "code",
      "execution_count": null,
      "id": "04c90694",
      "metadata": {
        "colab": {
          "base_uri": "https://localhost:8080/"
        },
        "id": "04c90694",
        "outputId": "6c2b1e5e-f78f-422a-8c9f-0093af1db1a7"
      },
      "outputs": [
        {
          "output_type": "execute_result",
          "data": {
            "text/plain": [
              "array([1.        , 0.42857143, 0.42857143, 0.42857143, 0.77151675,\n",
              "       0.6172134 , 0.3086067 , 0.6172134 , 0.3086067 , 0.46291005,\n",
              "       0.77151675, 0.46291005, 0.3086067 , 0.46291005, 0.46291005,\n",
              "       0.71428571, 0.46291005, 0.46291005, 0.77151675, 0.71428571,\n",
              "       0.46291005, 0.3086067 , 0.42857143, 0.42857143, 0.42857143,\n",
              "       0.46291005, 0.46291005, 0.3086067 , 0.77151675, 0.77151675,\n",
              "       0.6172134 , 0.3086067 , 0.71428571, 0.9258201 , 0.6172134 ,\n",
              "       0.6172134 , 0.3086067 , 0.85714286, 0.85714286, 0.85714286,\n",
              "       0.77151675, 0.77151675, 0.71428571, 0.77151675, 0.77151675,\n",
              "       0.77151675, 0.77151675, 0.77151675, 0.77151675, 0.77151675,\n",
              "       0.77151675, 0.77151675, 0.77151675, 0.77151675, 0.77151675,\n",
              "       0.77151675, 0.77151675, 0.71428571, 0.42857143, 0.77151675,\n",
              "       0.71428571, 0.85714286, 0.77151675, 0.77151675, 0.77151675,\n",
              "       0.77151675, 0.77151675, 0.46291005, 0.77151675, 0.77151675,\n",
              "       0.71428571, 0.85714286, 0.77151675, 0.71428571, 0.77151675,\n",
              "       0.77151675, 0.6172134 , 0.77151675, 0.85714286, 0.85714286,\n",
              "       0.85714286, 0.6172134 , 0.71428571, 0.46291005, 0.6172134 ,\n",
              "       0.6172134 , 0.77151675, 0.6172134 , 0.6172134 , 0.77151675,\n",
              "       0.77151675, 0.6172134 , 0.46291005, 0.3086067 , 0.77151675,\n",
              "       0.77151675, 0.77151675, 0.6172134 , 0.77151675, 0.6172134 ,\n",
              "       0.77151675, 0.6172134 , 0.6172134 , 0.46291005, 0.3086067 ,\n",
              "       0.6172134 , 0.77151675, 0.3086067 , 0.6172134 , 0.46291005,\n",
              "       0.6172134 , 0.6172134 , 0.3086067 , 0.46291005, 0.77151675,\n",
              "       0.6172134 , 0.46291005, 0.6172134 , 0.46291005, 0.3086067 ,\n",
              "       0.6172134 , 0.77151675, 0.46291005, 0.6172134 , 0.77151675,\n",
              "       0.46291005, 0.6172134 , 0.6172134 , 0.46291005, 0.3086067 ,\n",
              "       0.71428571, 0.57142857, 0.46291005, 0.6172134 , 0.77151675,\n",
              "       0.6172134 , 0.57142857, 0.46291005, 0.6172134 , 0.42857143,\n",
              "       0.46291005, 0.6172134 , 0.46291005, 0.3086067 , 0.42857143,\n",
              "       0.6172134 , 0.85714286, 0.3086067 , 0.42857143, 0.6172134 ,\n",
              "       0.42857143, 0.57142857, 0.46291005, 0.6172134 , 0.85714286,\n",
              "       0.42857143, 0.6172134 , 0.77151675, 0.57142857])"
            ]
          },
          "metadata": {},
          "execution_count": 326
        }
      ],
      "source": [
        "similarity[0]"
      ]
    },
    {
      "cell_type": "code",
      "execution_count": null,
      "id": "438d9e99",
      "metadata": {
        "colab": {
          "base_uri": "https://localhost:8080/"
        },
        "id": "438d9e99",
        "outputId": "c48b03fb-ee6a-4208-e24c-47e509ac33d2"
      },
      "outputs": [
        {
          "output_type": "execute_result",
          "data": {
            "text/plain": [
              "159"
            ]
          },
          "metadata": {},
          "execution_count": 327
        }
      ],
      "source": [
        "len(similarity[0])"
      ]
    },
    {
      "cell_type": "code",
      "source": [
        "new.columns"
      ],
      "metadata": {
        "colab": {
          "base_uri": "https://localhost:8080/"
        },
        "id": "RFmgkfHylk42",
        "outputId": "e16e8979-22b5-4425-8ffe-91d04d8933d0"
      },
      "id": "RFmgkfHylk42",
      "execution_count": null,
      "outputs": [
        {
          "output_type": "execute_result",
          "data": {
            "text/plain": [
              "Index(['House_Location', 'Price', 'Agent_no', 'Amenities', 'Property_type',\n",
              "       'House_Image', 'tags'],\n",
              "      dtype='object')"
            ]
          },
          "metadata": {},
          "execution_count": 328
        }
      ]
    },
    {
      "cell_type": "code",
      "source": [
        "columns =['House_Location', 'Price', 'Agent_no', 'Amenities', 'Property_type',\n",
        "       'House_Image', 'tags']"
      ],
      "metadata": {
        "id": "10IDtZNe1LG4"
      },
      "id": "10IDtZNe1LG4",
      "execution_count": null,
      "outputs": []
    },
    {
      "cell_type": "code",
      "source": [
        "for column in columns:\n",
        "    plt.figure(figsize=(8, 6))\n",
        "    dataset[column].value_counts().plot(kind='bar')\n",
        "    plt.title(f'{column} Distribution')\n",
        "    plt.xlabel(column)\n",
        "    plt.ylabel('Count')\n",
        "    plt.show()"
      ],
      "metadata": {
        "colab": {
          "base_uri": "https://localhost:8080/",
          "height": 1000
        },
        "id": "WOq4zycZ1JY5",
        "outputId": "52807cbb-5b51-4684-beb3-5b10bb3cb627"
      },
      "id": "WOq4zycZ1JY5",
      "execution_count": null,
      "outputs": [
        {
          "output_type": "display_data",
          "data": {
            "text/plain": [
              "<Figure size 800x600 with 1 Axes>"
            ],
            "image/png": "[encoded data removed]"
          },
          "metadata": {}
        },
        {
          "output_type": "display_data",
          "data": {
            "text/plain": [
              "<Figure size 800x600 with 1 Axes>"
            ],
            "image/png": "[encoded data removed]"
          },
          "metadata": {}
        },
        {
          "output_type": "display_data",
          "data": {
            "text/plain": [
              "<Figure size 800x600 with 1 Axes>"
            ],
            "image/png": "[encoded data removed]"
          },
          "metadata": {}
        },
        {
          "output_type": "display_data",
          "data": {
            "text/plain": [
              "<Figure size 800x600 with 1 Axes>"
            ],
            "image/png": "[encoded data removed]"
          },
          "metadata": {}
        },
        {
          "output_type": "display_data",
          "data": {
            "text/plain": [
              "<Figure size 800x600 with 1 Axes>"
            ],
            "image/png": "[encoded data removed]"
          },
          "metadata": {}
        },
        {
          "output_type": "display_data",
          "data": {
            "text/plain": [
              "<Figure size 800x600 with 1 Axes>"
            ],
            "image/png": "[encoded data removed]"
          },
          "metadata": {}
        },
        {
          "output_type": "display_data",
          "data": {
            "text/plain": [
              "<Figure size 800x600 with 1 Axes>"
            ],
            "image/png": "[encoded data removed]"
          },
          "metadata": {}
        }
      ]
    },
    {
      "cell_type": "code",
      "source": [
        "new['House_Location'].unique()"
      ],
      "metadata": {
        "colab": {
          "base_uri": "https://localhost:8080/"
        },
        "id": "q1EvgOaxl7Li",
        "outputId": "12046755-b32c-45fd-e680-d4668b57b91d"
      },
      "id": "q1EvgOaxl7Li",
      "execution_count": null,
      "outputs": [
        {
          "output_type": "execute_result",
          "data": {
            "text/plain": [
              "array(['nnpc felele', 'motel 5 felele', 'oworo felele', 'felele',\n",
              "       'adankolo', 'crusher', 'nasfat felele'], dtype=object)"
            ]
          },
          "metadata": {},
          "execution_count": 329
        }
      ]
    },
    {
      "cell_type": "code",
      "source": [
        "# Label Encode Ordinal Variables\n",
        "category_mapping = {\n",
        "       'nnpc felele':'nnpc felele', 'motel 5 felele':'motel 5 felele', 'oworo felele':'oworo felele', 'felele':'felele',\n",
        "       'adankolo':'adankolo', 'crusher':'crusher', 'felele ':'felele', 'nasfat felele':'nasfat felele', '`felele':'felele'\n",
        "}\n",
        "\n",
        "new['House_Location']= new['House_Location'].map(category_mapping)"
      ],
      "metadata": {
        "id": "m9sPjIcUEjrn"
      },
      "id": "m9sPjIcUEjrn",
      "execution_count": null,
      "outputs": []
    },
    {
      "cell_type": "code",
      "source": [
        "new['Amenities'].unique()"
      ],
      "metadata": {
        "colab": {
          "base_uri": "https://localhost:8080/"
        },
        "id": "GAWwqpzFFF9P",
        "outputId": "924ca929-7db8-4564-ff12-c0157f93fe64"
      },
      "id": "GAWwqpzFFF9P",
      "execution_count": null,
      "outputs": [
        {
          "output_type": "execute_result",
          "data": {
            "text/plain": [
              "array(['water and electricity', 'electricity'], dtype=object)"
            ]
          },
          "metadata": {},
          "execution_count": 331
        }
      ]
    },
    {
      "cell_type": "code",
      "source": [
        "new['Agent_no'].unique()"
      ],
      "metadata": {
        "colab": {
          "base_uri": "https://localhost:8080/"
        },
        "id": "HFGyutdYqQsq",
        "outputId": "17fb82d9-f60d-472b-a811-7df8d383d1c5"
      },
      "id": "HFGyutdYqQsq",
      "execution_count": null,
      "outputs": [
        {
          "output_type": "execute_result",
          "data": {
            "text/plain": [
              "array([8146545794, 8134845479, 8162446601,  814654579,  811093992,\n",
              "       9018585261, 8106088269, 8168402295, 7084731289, 8143845479,\n",
              "       9032208053, 9065970185, 8116355160, 9034195580, 8157791365,\n",
              "        816244660, 9056127508, 9151231012, 8057218982,  814384579,\n",
              "       8136335524, 8105550738, 8164127799, 8063947473, 9038404376,\n",
              "        814345479, 9072673456, 9131313341, 8110939992, 7038690742,\n",
              "       8144094137, 8157791376, 8085711287, 7060825400, 8162197848])"
            ]
          },
          "metadata": {},
          "execution_count": 343
        }
      ]
    },
    {
      "cell_type": "code",
      "source": [
        "House_Location=\"nnpc felele\"\n",
        "Price =170000\n",
        "Amenities =\"water and electricity\"\n",
        "Property_type =\"self contained\"\n",
        "index = new[(new['House_Location']==House_Location) & (new['Price']==Price) & (new['Amenities']==Amenities) & (new['Property_type']==Property_type)].index[0]"
      ],
      "metadata": {
        "id": "ZNiXHKQyBt_P"
      },
      "id": "ZNiXHKQyBt_P",
      "execution_count": null,
      "outputs": []
    },
    {
      "cell_type": "code",
      "execution_count": null,
      "id": "35276df0",
      "metadata": {
        "id": "35276df0"
      },
      "outputs": [],
      "source": [
        "def recommend(House_Location,Price,Amenities,Property_type):\n",
        "    index = new[(new['House_Location']==House_Location) & (new['Price']==Price) & (new['Amenities']==Amenities) & (new['Property_type']==Property_type)].index[0]\n",
        "    distances = sorted(list(enumerate(similarity[index])), reverse=True, key=lambda x: x[1])\n",
        "    recommended_lodges = []\n",
        "    printed_names = set()\n",
        "    for i in distances[1:10]:\n",
        "        row_index = i[0]\n",
        "        House_Location = new.iloc[row_index]['House_Location']\n",
        "        Price = new.iloc[row_index]['Price']\n",
        "        Amenities = new.iloc[row_index]['Amenities']\n",
        "        Property_type = new.iloc[row_index]['Property_type']\n",
        "        House_Image = new.iloc[row_index]['House_Image']\n",
        "        Agent_no = new.iloc[row_index]['Agent_no']\n",
        "        if House_Location not in printed_names:\n",
        "            printed_names.add(House_Location)\n",
        "\n",
        "            recommended_lodges.append(\n",
        "                {'House_Location': House_Location, 'Price': Price, 'Amenities': Amenities, Agent_no:'Agent_no', 'House_Image':House_Image })\n",
        "    return recommended_lodges"
      ]
    },
    {
      "cell_type": "code",
      "source": [
        "recommend(\"nnpc felele\",170000,\"water and electricity\",\"self contained\")"
      ],
      "metadata": {
        "colab": {
          "base_uri": "https://localhost:8080/"
        },
        "id": "29UCoMaVo2lV",
        "outputId": "f30fd706-3bfc-4687-c2e0-804157e69d1d"
      },
      "id": "29UCoMaVo2lV",
      "execution_count": null,
      "outputs": [
        {
          "output_type": "execute_result",
          "data": {
            "text/plain": [
              "[{'House_Location': 'felele',\n",
              "  'Price': 170000,\n",
              "  'Amenities': 'water and electricity',\n",
              "  8143845479: 'Agent_no',\n",
              "  'House_Image': 'image 33.jpg'},\n",
              " {'House_Location': 'nnpc felele',\n",
              "  'Price': 75000,\n",
              "  'Amenities': 'water and electricity',\n",
              "  8157791365: 'Agent_no',\n",
              "  'House_Image': 'image 34.jfif'}]"
            ]
          },
          "metadata": {},
          "execution_count": 336
        }
      ]
    },
    {
      "cell_type": "code",
      "execution_count": null,
      "id": "dbd88cd7",
      "metadata": {
        "id": "dbd88cd7",
        "outputId": "1766fa46-5ad0-426d-b931-5d3e38bc79a0",
        "colab": {
          "base_uri": "https://localhost:8080/"
        }
      },
      "outputs": [
        {
          "output_type": "execute_result",
          "data": {
            "text/plain": [
              "[(0, 0.9999999999999997),\n",
              " (33, 0.9258200997725515),\n",
              " (37, 0.8571428571428569),\n",
              " (38, 0.8571428571428569),\n",
              " (39, 0.8571428571428569),\n",
              " (61, 0.8571428571428569),\n",
              " (71, 0.8571428571428569),\n",
              " (78, 0.8571428571428569),\n",
              " (79, 0.8571428571428569),\n",
              " (80, 0.8571428571428569),\n",
              " (146, 0.8571428571428569),\n",
              " (154, 0.8571428571428569),\n",
              " (4, 0.7715167498104596),\n",
              " (10, 0.7715167498104596),\n",
              " (18, 0.7715167498104596),\n",
              " (28, 0.7715167498104596),\n",
              " (29, 0.7715167498104596),\n",
              " (40, 0.7715167498104596),\n",
              " (41, 0.7715167498104596),\n",
              " (43, 0.7715167498104596),\n",
              " (44, 0.7715167498104596),\n",
              " (45, 0.7715167498104596),\n",
              " (46, 0.7715167498104596),\n",
              " (47, 0.7715167498104596),\n",
              " (48, 0.7715167498104596),\n",
              " (49, 0.7715167498104596),\n",
              " (50, 0.7715167498104596),\n",
              " (51, 0.7715167498104596),\n",
              " (52, 0.7715167498104596),\n",
              " (53, 0.7715167498104596),\n",
              " (54, 0.7715167498104596),\n",
              " (55, 0.7715167498104596),\n",
              " (56, 0.7715167498104596),\n",
              " (59, 0.7715167498104596),\n",
              " (62, 0.7715167498104596),\n",
              " (63, 0.7715167498104596),\n",
              " (64, 0.7715167498104596),\n",
              " (65, 0.7715167498104596),\n",
              " (66, 0.7715167498104596),\n",
              " (68, 0.7715167498104596),\n",
              " (69, 0.7715167498104596),\n",
              " (72, 0.7715167498104596),\n",
              " (74, 0.7715167498104596),\n",
              " (75, 0.7715167498104596),\n",
              " (77, 0.7715167498104596),\n",
              " (86, 0.7715167498104596),\n",
              " (89, 0.7715167498104596),\n",
              " (90, 0.7715167498104596),\n",
              " (94, 0.7715167498104596),\n",
              " (95, 0.7715167498104596),\n",
              " (96, 0.7715167498104596),\n",
              " (98, 0.7715167498104596),\n",
              " (100, 0.7715167498104596),\n",
              " (106, 0.7715167498104596),\n",
              " (114, 0.7715167498104596),\n",
              " (121, 0.7715167498104596),\n",
              " (124, 0.7715167498104596),\n",
              " (134, 0.7715167498104596),\n",
              " (157, 0.7715167498104596),\n",
              " (15, 0.7142857142857141),\n",
              " (19, 0.7142857142857141),\n",
              " (32, 0.7142857142857141),\n",
              " (42, 0.7142857142857141),\n",
              " (57, 0.7142857142857141),\n",
              " (60, 0.7142857142857141),\n",
              " (70, 0.7142857142857141),\n",
              " (73, 0.7142857142857141),\n",
              " (82, 0.7142857142857141),\n",
              " (130, 0.7142857142857141),\n",
              " (5, 0.6172133998483676),\n",
              " (7, 0.6172133998483676),\n",
              " (30, 0.6172133998483676),\n",
              " (34, 0.6172133998483676),\n",
              " (35, 0.6172133998483676),\n",
              " (76, 0.6172133998483676),\n",
              " (81, 0.6172133998483676),\n",
              " (84, 0.6172133998483676),\n",
              " (85, 0.6172133998483676),\n",
              " (87, 0.6172133998483676),\n",
              " (88, 0.6172133998483676),\n",
              " (91, 0.6172133998483676),\n",
              " (97, 0.6172133998483676),\n",
              " (99, 0.6172133998483676),\n",
              " (101, 0.6172133998483676),\n",
              " (102, 0.6172133998483676),\n",
              " (105, 0.6172133998483676),\n",
              " (108, 0.6172133998483676),\n",
              " (110, 0.6172133998483676),\n",
              " (111, 0.6172133998483676),\n",
              " (115, 0.6172133998483676),\n",
              " (117, 0.6172133998483676),\n",
              " (120, 0.6172133998483676),\n",
              " (123, 0.6172133998483676),\n",
              " (126, 0.6172133998483676),\n",
              " (127, 0.6172133998483676),\n",
              " (133, 0.6172133998483676),\n",
              " (135, 0.6172133998483676),\n",
              " (138, 0.6172133998483676),\n",
              " (141, 0.6172133998483676),\n",
              " (145, 0.6172133998483676),\n",
              " (149, 0.6172133998483676),\n",
              " (153, 0.6172133998483676),\n",
              " (156, 0.6172133998483676),\n",
              " (131, 0.5714285714285713),\n",
              " (136, 0.5714285714285713),\n",
              " (151, 0.5714285714285713),\n",
              " (158, 0.5714285714285713),\n",
              " (9, 0.46291004988627577),\n",
              " (11, 0.46291004988627577),\n",
              " (13, 0.46291004988627577),\n",
              " (14, 0.46291004988627577),\n",
              " (16, 0.46291004988627577),\n",
              " (17, 0.46291004988627577),\n",
              " (20, 0.46291004988627577),\n",
              " (25, 0.46291004988627577),\n",
              " (26, 0.46291004988627577),\n",
              " (67, 0.46291004988627577),\n",
              " (83, 0.46291004988627577),\n",
              " (92, 0.46291004988627577),\n",
              " (103, 0.46291004988627577),\n",
              " (109, 0.46291004988627577),\n",
              " (113, 0.46291004988627577),\n",
              " (116, 0.46291004988627577),\n",
              " (118, 0.46291004988627577),\n",
              " (122, 0.46291004988627577),\n",
              " (125, 0.46291004988627577),\n",
              " (128, 0.46291004988627577),\n",
              " (132, 0.46291004988627577),\n",
              " (137, 0.46291004988627577),\n",
              " (140, 0.46291004988627577),\n",
              " (142, 0.46291004988627577),\n",
              " (152, 0.46291004988627577),\n",
              " (1, 0.4285714285714285),\n",
              " (2, 0.4285714285714285),\n",
              " (3, 0.4285714285714285),\n",
              " (22, 0.4285714285714285),\n",
              " (23, 0.4285714285714285),\n",
              " (24, 0.4285714285714285),\n",
              " (58, 0.4285714285714285),\n",
              " (139, 0.4285714285714285),\n",
              " (144, 0.4285714285714285),\n",
              " (148, 0.4285714285714285),\n",
              " (150, 0.4285714285714285),\n",
              " (155, 0.4285714285714285),\n",
              " (6, 0.3086066999241838),\n",
              " (8, 0.3086066999241838),\n",
              " (12, 0.3086066999241838),\n",
              " (21, 0.3086066999241838),\n",
              " (27, 0.3086066999241838),\n",
              " (31, 0.3086066999241838),\n",
              " (36, 0.3086066999241838),\n",
              " (93, 0.3086066999241838),\n",
              " (104, 0.3086066999241838),\n",
              " (107, 0.3086066999241838),\n",
              " (112, 0.3086066999241838),\n",
              " (119, 0.3086066999241838),\n",
              " (129, 0.3086066999241838),\n",
              " (143, 0.3086066999241838),\n",
              " (147, 0.3086066999241838)]"
            ]
          },
          "metadata": {},
          "execution_count": 111
        }
      ],
      "source": [
        "sorted(list(enumerate(similarity[0])), reverse=True, key = lambda x:x[1])"
      ]
    },
    {
      "cell_type": "code",
      "execution_count": null,
      "id": "45a60abe",
      "metadata": {
        "id": "45a60abe"
      },
      "outputs": [],
      "source": [
        "import pickle"
      ]
    },
    {
      "cell_type": "code",
      "execution_count": null,
      "id": "333709fd",
      "metadata": {
        "id": "333709fd"
      },
      "outputs": [],
      "source": [
        "pickle.dump(similarity, open('lodgesimilarity.pkl','wb'))"
      ]
    },
    {
      "cell_type": "code",
      "source": [
        "new.to_csv('lodge_list.csv', index=False)"
      ],
      "metadata": {
        "id": "9WDPHEkGUAFF"
      },
      "id": "9WDPHEkGUAFF",
      "execution_count": null,
      "outputs": []
    }
  ],
  "metadata": {
    "kernelspec": {
      "display_name": "Python 3",
      "name": "python3"
    },
    "language_info": {
      "codemirror_mode": {
        "name": "ipython",
        "version": 3
      },
      "file_extension": ".py",
      "mimetype": "text/x-python",
      "name": "python",
      "nbconvert_exporter": "python",
      "pygments_lexer": "ipython3",
      "version": "3.11.4"
    },
    "colab": {
      "provenance": []
    }
  },
  "nbformat": 4,
  "nbformat_minor": 5
}